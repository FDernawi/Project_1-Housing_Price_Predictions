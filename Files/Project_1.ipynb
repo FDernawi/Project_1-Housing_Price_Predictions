{
 "cells": [
  {
   "cell_type": "code",
   "execution_count": 152,
   "id": "73c940b9-9e93-43eb-bdb4-4df764b8b3b5",
   "metadata": {},
   "outputs": [],
   "source": [
    "#importing the dependencies\n",
    "import csv\n",
    "import pandas as pd\n",
    "from pathlib import Path\n",
    "import matplotlib.pyplot as plt"
   ]
  },
  {
   "cell_type": "code",
   "execution_count": 154,
   "id": "44b28439-71a7-4355-946c-b2fa695448dd",
   "metadata": {},
   "outputs": [
    {
     "data": {
      "text/html": [
       "<div>\n",
       "<style scoped>\n",
       "    .dataframe tbody tr th:only-of-type {\n",
       "        vertical-align: middle;\n",
       "    }\n",
       "\n",
       "    .dataframe tbody tr th {\n",
       "        vertical-align: top;\n",
       "    }\n",
       "\n",
       "    .dataframe thead th {\n",
       "        text-align: right;\n",
       "    }\n",
       "</style>\n",
       "<table border=\"1\" class=\"dataframe\">\n",
       "  <thead>\n",
       "    <tr style=\"text-align: right;\">\n",
       "      <th></th>\n",
       "      <th>Id</th>\n",
       "      <th>Area</th>\n",
       "      <th>Bedrooms</th>\n",
       "      <th>Bathrooms</th>\n",
       "      <th>Floors</th>\n",
       "      <th>YearBuilt</th>\n",
       "      <th>Location</th>\n",
       "      <th>Condition</th>\n",
       "      <th>Garage</th>\n",
       "      <th>Price</th>\n",
       "    </tr>\n",
       "  </thead>\n",
       "  <tbody>\n",
       "    <tr>\n",
       "      <th>0</th>\n",
       "      <td>1</td>\n",
       "      <td>1360</td>\n",
       "      <td>5</td>\n",
       "      <td>4</td>\n",
       "      <td>3</td>\n",
       "      <td>1970</td>\n",
       "      <td>Downtown</td>\n",
       "      <td>Excellent</td>\n",
       "      <td>No</td>\n",
       "      <td>149919</td>\n",
       "    </tr>\n",
       "    <tr>\n",
       "      <th>1</th>\n",
       "      <td>2</td>\n",
       "      <td>4272</td>\n",
       "      <td>5</td>\n",
       "      <td>4</td>\n",
       "      <td>3</td>\n",
       "      <td>1958</td>\n",
       "      <td>Downtown</td>\n",
       "      <td>Excellent</td>\n",
       "      <td>No</td>\n",
       "      <td>424998</td>\n",
       "    </tr>\n",
       "    <tr>\n",
       "      <th>2</th>\n",
       "      <td>3</td>\n",
       "      <td>3592</td>\n",
       "      <td>2</td>\n",
       "      <td>2</td>\n",
       "      <td>3</td>\n",
       "      <td>1938</td>\n",
       "      <td>Downtown</td>\n",
       "      <td>Good</td>\n",
       "      <td>No</td>\n",
       "      <td>266746</td>\n",
       "    </tr>\n",
       "    <tr>\n",
       "      <th>3</th>\n",
       "      <td>4</td>\n",
       "      <td>966</td>\n",
       "      <td>4</td>\n",
       "      <td>2</td>\n",
       "      <td>2</td>\n",
       "      <td>1902</td>\n",
       "      <td>Suburban</td>\n",
       "      <td>Fair</td>\n",
       "      <td>Yes</td>\n",
       "      <td>244020</td>\n",
       "    </tr>\n",
       "    <tr>\n",
       "      <th>4</th>\n",
       "      <td>5</td>\n",
       "      <td>4926</td>\n",
       "      <td>1</td>\n",
       "      <td>4</td>\n",
       "      <td>2</td>\n",
       "      <td>1975</td>\n",
       "      <td>Downtown</td>\n",
       "      <td>Fair</td>\n",
       "      <td>Yes</td>\n",
       "      <td>636056</td>\n",
       "    </tr>\n",
       "  </tbody>\n",
       "</table>\n",
       "</div>"
      ],
      "text/plain": [
       "   Id  Area  Bedrooms  Bathrooms  Floors  YearBuilt  Location  Condition  \\\n",
       "0   1  1360         5          4       3       1970  Downtown  Excellent   \n",
       "1   2  4272         5          4       3       1958  Downtown  Excellent   \n",
       "2   3  3592         2          2       3       1938  Downtown       Good   \n",
       "3   4   966         4          2       2       1902  Suburban       Fair   \n",
       "4   5  4926         1          4       2       1975  Downtown       Fair   \n",
       "\n",
       "  Garage   Price  \n",
       "0     No  149919  \n",
       "1     No  424998  \n",
       "2     No  266746  \n",
       "3    Yes  244020  \n",
       "4    Yes  636056  "
      ]
     },
     "execution_count": 154,
     "metadata": {},
     "output_type": "execute_result"
    }
   ],
   "source": [
    "# Load the dataset from the provided path\n",
    "origin_data = pd.read_csv(\"house_price_prediction_dataset.csv\")\n",
    "#displaying the first five rows\n",
    "origin_data.head()"
   ]
  },
  {
   "cell_type": "code",
   "execution_count": 155,
   "id": "ec760798-cbae-41b5-a605-c4fc4073f880",
   "metadata": {},
   "outputs": [
    {
     "data": {
      "text/plain": [
       "(2000, 10)"
      ]
     },
     "execution_count": 155,
     "metadata": {},
     "output_type": "execute_result"
    }
   ],
   "source": [
    "# Describing the shape of the data by indicating the number of rows and columns (rows , columns)\n",
    "origin_data.shape"
   ]
  },
  {
   "cell_type": "code",
   "execution_count": 130,
   "id": "0c19e657-26ed-41c3-befe-ecafb0e17649",
   "metadata": {},
   "outputs": [
    {
     "name": "stdout",
     "output_type": "stream",
     "text": [
      "<class 'pandas.core.frame.DataFrame'>\n",
      "RangeIndex: 2000 entries, 0 to 1999\n",
      "Data columns (total 10 columns):\n",
      " #   Column     Non-Null Count  Dtype \n",
      "---  ------     --------------  ----- \n",
      " 0   Id         2000 non-null   int64 \n",
      " 1   Area       2000 non-null   int64 \n",
      " 2   Bedrooms   2000 non-null   int64 \n",
      " 3   Bathrooms  2000 non-null   int64 \n",
      " 4   Floors     2000 non-null   int64 \n",
      " 5   YearBuilt  2000 non-null   int64 \n",
      " 6   Location   2000 non-null   object\n",
      " 7   Condition  2000 non-null   object\n",
      " 8   Garage     2000 non-null   object\n",
      " 9   Price      2000 non-null   int64 \n",
      "dtypes: int64(7), object(3)\n",
      "memory usage: 156.4+ KB\n"
     ]
    }
   ],
   "source": [
    "origin_data.info()"
   ]
  },
  {
   "cell_type": "code",
   "execution_count": 158,
   "id": "5e3e99d3-623c-41f4-afe2-283d54afceb8",
   "metadata": {},
   "outputs": [
    {
     "name": "stdout",
     "output_type": "stream",
     "text": [
      "Location\n",
      "Downtown    536059.66\n",
      "Rural       538613.94\n",
      "Suburban    557416.33\n",
      "Urban       518963.55\n",
      "Name: Price, dtype: float64\n"
     ]
    }
   ],
   "source": [
    "# finding the average price depending on the location (analysis),rounding to two decimal\n",
    "avg_price_by_loc = origin_data.groupby(\"Location\")[\"Price\"].mean().round(2)\n",
    "print(avg_price_by_loc)"
   ]
  },
  {
   "cell_type": "code",
   "execution_count": 161,
   "id": "cb7b29e7-a870-45af-bc74-98acfbda0ca4",
   "metadata": {},
   "outputs": [
    {
     "data": {
      "image/png": "[encoded data removed]",
      "text/plain": [
       "<Figure size 500x300 with 1 Axes>"
      ]
     },
     "metadata": {},
     "output_type": "display_data"
    },
    {
     "data": {
      "text/plain": [
       "' findings: the prices of houses are highest in suburban areas , and lowest in the urban\\n'"
      ]
     },
     "execution_count": 161,
     "metadata": {},
     "output_type": "execute_result"
    }
   ],
   "source": [
    "plt.figure(figsize=(5,3))\n",
    "plt.bar(location_price.index, location_price.values, color=\"orange\")\n",
    "plt.title(\"Average Price By Location\")\n",
    "plt.xlabel(\"location\")\n",
    "plt.ylabel(\"price\")\n",
    "plt.show()\n",
    "'''  \n",
    "Qs. Find the average price of the hosue by location.\n",
    "findings: the prices of houses are highest in suburban areas , and lowest in the urban\n",
    "'''\n"
   ]
  },
  {
   "cell_type": "code",
   "execution_count": 162,
   "id": "b5a48391-1c76-4f8a-90d7-fb6c4ac9f298",
   "metadata": {},
   "outputs": [
    {
     "name": "stdout",
     "output_type": "stream",
     "text": [
      "Condition\n",
      "Excellent    530812.01\n",
      "Fair         560594.14\n",
      "Good         529002.35\n",
      "Poor         528933.22\n",
      "Name: Price, dtype: float64\n"
     ]
    }
   ],
   "source": [
    " # finding the average price of the house by condition\n",
    "avg_price_by_condition = origin_data.groupby(\"Condition\")[\"Price\"].mean().round(2)\n",
    "print(avg_price_by_condition)"
   ]
  },
  {
   "cell_type": "code",
   "execution_count": 165,
   "id": "298fe975-1bbc-483c-9d44-49a30ecb7a88",
   "metadata": {},
   "outputs": [
    {
     "data": {
      "image/png": "[encoded data removed]",
      "text/plain": [
       "<Figure size 500x300 with 1 Axes>"
      ]
     },
     "metadata": {},
     "output_type": "display_data"
    }
   ],
   "source": [
    "plt.figure(figsize=(5,3))\n",
    "plt.bar(condition_price.index, condition_price.values, color=\"blue\")\n",
    "plt.title(\"Average Price of The House By Condition\")\n",
    "plt.xlabel(\"condition of the House\")\n",
    "plt.ylabel(\"price\")\n",
    "plt.show()\n",
    "'''\n",
    "\n",
    "'''\n"
   ]
  },
  {
   "cell_type": "code",
   "execution_count": 168,
   "id": "cfbb7753-4c01-4a4d-b05b-cb2542ef5e03",
   "metadata": {},
   "outputs": [
    {
     "name": "stdout",
     "output_type": "stream",
     "text": [
      "Bedrooms\n",
      "1    530561.6\n",
      "2    545546.5\n",
      "3    546977.9\n",
      "4    533696.9\n",
      "5    532500.1\n",
      "Name: Price, dtype: float64\n"
     ]
    }
   ],
   "source": [
    "# analysing the price of house based on number of bedrooms\n",
    "avg_price_by_bedrooms = origin_data.groupby(\"Bedrooms\")[\"Price\"].mean().round(1)\n",
    "print(avg_price_by_bedrooms)"
   ]
  },
  {
   "cell_type": "code",
   "execution_count": 140,
   "id": "48ff70ab-d4f5-4a57-92c9-e244fa9426ba",
   "metadata": {},
   "outputs": [
    {
     "data": {
      "image/png": "[encoded data removed]",
      "text/plain": [
       "<Figure size 500x300 with 1 Axes>"
      ]
     },
     "metadata": {},
     "output_type": "display_data"
    }
   ],
   "source": [
    "plt.figure(figsize=(5,3))\n",
    "plt.bar(bedroom_price.index ,bedroom_price, color='r', alpha= 0.7, align= 'center')\n",
    "plt.title('Price Based on Number of Bedrooms')\n",
    "plt.xlabel(\"Number of Bedrooms\")\n",
    "plt.ylabel(\"Average Price\")\n",
    "plt.show()\n",
    "           "
   ]
  },
  {
   "cell_type": "code",
   "execution_count": 182,
   "id": "50237026-7423-4fcd-8843-342c0ca9d613",
   "metadata": {},
   "outputs": [
    {
     "data": {
      "text/plain": [
       "np.float64(695236.9333333333)"
      ]
     },
     "execution_count": 182,
     "metadata": {},
     "output_type": "execute_result"
    }
   ],
   "source": [
    "#creation of variable to show the median price based on the year built\n",
    "yearbuilt_median_price = origin_data.groupby('YearBuilt')#['Price'].mean()\n",
    "df=yearbuilt_median_price['Price'].mean()\n",
    "max_price=df.max()\n",
    "max_price\n",
    "##print(yearbuilt_median_price.max())"
   ]
  },
  {
   "cell_type": "code",
   "execution_count": 142,
   "id": "df30be09-1f65-4312-83d7-616b452dfe8a",
   "metadata": {},
   "outputs": [
    {
     "data": {
      "image/png": "[encoded data removed]",
      "text/plain": [
       "<Figure size 500x300 with 1 Axes>"
      ]
     },
     "metadata": {},
     "output_type": "display_data"
    }
   ],
   "source": [
    "plt.figure(figsize=(5,3))\n",
    "plt.scatter(yearbuilt_median_price.index,yearbuilt_median_price.values, color=\"blue\")\n",
    "plt.title(\"Price per year\")\n",
    "plt.xlabel(\"YearBuilt\")\n",
    "plt.ylabel(\"Prices\")\n",
    "plt.show()"
   ]
  },
  {
   "cell_type": "code",
   "execution_count": 183,
   "id": "ac6b46b6-d7f6-47dd-a4cc-90e8adf2bf1f",
   "metadata": {},
   "outputs": [
    {
     "name": "stdout",
     "output_type": "stream",
     "text": [
      "0        54\n",
      "1        66\n",
      "2        86\n",
      "3       122\n",
      "4        49\n",
      "       ... \n",
      "1995    101\n",
      "1996      5\n",
      "1997    121\n",
      "1998     88\n",
      "1999    121\n",
      "Name: YearBuilt, Length: 2000, dtype: int64\n"
     ]
    }
   ],
   "source": [
    "# create a new column for the age of the house:(addinf a new columns name age_of_house)\n",
    "house_age = origin_data[\"Age_of_House\"]= 2024-origin_data[\"YearBuilt\"]\n",
    "print(house_age)"
   ]
  },
  {
   "cell_type": "code",
   "execution_count": 184,
   "id": "dffd419e-6a9b-4e2f-9302-a66e274b4ad1",
   "metadata": {},
   "outputs": [
    {
     "data": {
      "text/html": [
       "<div>\n",
       "<style scoped>\n",
       "    .dataframe tbody tr th:only-of-type {\n",
       "        vertical-align: middle;\n",
       "    }\n",
       "\n",
       "    .dataframe tbody tr th {\n",
       "        vertical-align: top;\n",
       "    }\n",
       "\n",
       "    .dataframe thead th {\n",
       "        text-align: right;\n",
       "    }\n",
       "</style>\n",
       "<table border=\"1\" class=\"dataframe\">\n",
       "  <thead>\n",
       "    <tr style=\"text-align: right;\">\n",
       "      <th></th>\n",
       "      <th>Id</th>\n",
       "      <th>Area</th>\n",
       "      <th>Bedrooms</th>\n",
       "      <th>Bathrooms</th>\n",
       "      <th>Floors</th>\n",
       "      <th>YearBuilt</th>\n",
       "      <th>Location</th>\n",
       "      <th>Condition</th>\n",
       "      <th>Garage</th>\n",
       "      <th>Price</th>\n",
       "      <th>Age_of_House</th>\n",
       "    </tr>\n",
       "  </thead>\n",
       "  <tbody>\n",
       "    <tr>\n",
       "      <th>0</th>\n",
       "      <td>1</td>\n",
       "      <td>1360</td>\n",
       "      <td>5</td>\n",
       "      <td>4</td>\n",
       "      <td>3</td>\n",
       "      <td>1970</td>\n",
       "      <td>Downtown</td>\n",
       "      <td>Excellent</td>\n",
       "      <td>No</td>\n",
       "      <td>149919</td>\n",
       "      <td>54</td>\n",
       "    </tr>\n",
       "    <tr>\n",
       "      <th>1</th>\n",
       "      <td>2</td>\n",
       "      <td>4272</td>\n",
       "      <td>5</td>\n",
       "      <td>4</td>\n",
       "      <td>3</td>\n",
       "      <td>1958</td>\n",
       "      <td>Downtown</td>\n",
       "      <td>Excellent</td>\n",
       "      <td>No</td>\n",
       "      <td>424998</td>\n",
       "      <td>66</td>\n",
       "    </tr>\n",
       "    <tr>\n",
       "      <th>2</th>\n",
       "      <td>3</td>\n",
       "      <td>3592</td>\n",
       "      <td>2</td>\n",
       "      <td>2</td>\n",
       "      <td>3</td>\n",
       "      <td>1938</td>\n",
       "      <td>Downtown</td>\n",
       "      <td>Good</td>\n",
       "      <td>No</td>\n",
       "      <td>266746</td>\n",
       "      <td>86</td>\n",
       "    </tr>\n",
       "    <tr>\n",
       "      <th>3</th>\n",
       "      <td>4</td>\n",
       "      <td>966</td>\n",
       "      <td>4</td>\n",
       "      <td>2</td>\n",
       "      <td>2</td>\n",
       "      <td>1902</td>\n",
       "      <td>Suburban</td>\n",
       "      <td>Fair</td>\n",
       "      <td>Yes</td>\n",
       "      <td>244020</td>\n",
       "      <td>122</td>\n",
       "    </tr>\n",
       "    <tr>\n",
       "      <th>4</th>\n",
       "      <td>5</td>\n",
       "      <td>4926</td>\n",
       "      <td>1</td>\n",
       "      <td>4</td>\n",
       "      <td>2</td>\n",
       "      <td>1975</td>\n",
       "      <td>Downtown</td>\n",
       "      <td>Fair</td>\n",
       "      <td>Yes</td>\n",
       "      <td>636056</td>\n",
       "      <td>49</td>\n",
       "    </tr>\n",
       "  </tbody>\n",
       "</table>\n",
       "</div>"
      ],
      "text/plain": [
       "   Id  Area  Bedrooms  Bathrooms  Floors  YearBuilt  Location  Condition  \\\n",
       "0   1  1360         5          4       3       1970  Downtown  Excellent   \n",
       "1   2  4272         5          4       3       1958  Downtown  Excellent   \n",
       "2   3  3592         2          2       3       1938  Downtown       Good   \n",
       "3   4   966         4          2       2       1902  Suburban       Fair   \n",
       "4   5  4926         1          4       2       1975  Downtown       Fair   \n",
       "\n",
       "  Garage   Price  Age_of_House  \n",
       "0     No  149919            54  \n",
       "1     No  424998            66  \n",
       "2     No  266746            86  \n",
       "3    Yes  244020           122  \n",
       "4    Yes  636056            49  "
      ]
     },
     "execution_count": 184,
     "metadata": {},
     "output_type": "execute_result"
    }
   ],
   "source": [
    "origin_data.head()"
   ]
  },
  {
   "cell_type": "code",
   "execution_count": null,
   "id": "05dfd14a-4dee-4536-b9b9-72b1dc194c86",
   "metadata": {},
   "outputs": [],
   "source": [
    "#find the avg age of the house"
   ]
  },
  {
   "cell_type": "code",
   "execution_count": 144,
   "id": "e281fb14-0bd5-42f6-8d30-2b6e850d4213",
   "metadata": {},
   "outputs": [
    {
     "name": "stdout",
     "output_type": "stream",
     "text": [
      "Floors\n",
      "1    2748.756430\n",
      "2    2804.050651\n",
      "3    2805.388889\n",
      "Name: Area, dtype: float64\n"
     ]
    }
   ],
   "source": [
    "# New Variable created testing the floor area average\n",
    "floors_avg_area = origin_data.groupby('Floors')['Area'].mean()\n",
    "print(floors_avg_area)"
   ]
  },
  {
   "cell_type": "code",
   "execution_count": 145,
   "id": "cfc2018e-d608-47e8-bcc3-91b7a481981e",
   "metadata": {},
   "outputs": [
    {
     "name": "stdout",
     "output_type": "stream",
     "text": [
      "Bathrooms\n",
      "1    51082\n",
      "2    50005\n",
      "3    53657\n",
      "4    51845\n",
      "Name: Price, dtype: int64\n"
     ]
    }
   ],
   "source": [
    "# New variable to determine price by number of bathrooms present in house\n",
    "bathrooms_min_price = origin_data.groupby('Bathrooms')['Price'].min()\n",
    "print(bathrooms_min_price)\n"
   ]
  },
  {
   "cell_type": "code",
   "execution_count": 146,
   "id": "4ace7fdc-5b0f-4575-a9d9-d6b3f4630d7b",
   "metadata": {},
   "outputs": [
    {
     "name": "stdout",
     "output_type": "stream",
     "text": [
      "Location  Condition\n",
      "Downtown  Excellent    524477.967320\n",
      "          Fair         584624.766423\n",
      "          Good         510704.191176\n",
      "          Poor         525203.022727\n",
      "Rural     Excellent    547966.141667\n",
      "          Fair         579754.727273\n",
      "          Good         500956.690000\n",
      "          Poor         515768.680328\n",
      "Suburban  Excellent    553103.377049\n",
      "          Fair         562783.795276\n",
      "          Good         570986.252252\n",
      "          Poor         543906.186992\n",
      "Urban     Excellent    497976.370690\n",
      "          Fair         511798.304000\n",
      "          Good         534554.131579\n",
      "          Poor         530908.484615\n",
      "Name: Price, dtype: float64\n"
     ]
    }
   ],
   "source": [
    "# Location conditions relative to the average price\n",
    "location_condition_avg_price = origin_data.groupby(['Location', 'Condition'])['Price'].mean()\n",
    "print(location_condition_avg_price)\n"
   ]
  },
  {
   "cell_type": "code",
   "execution_count": 186,
   "id": "bf11bb63-d530-4498-bde0-89adfec09917",
   "metadata": {},
   "outputs": [
    {
     "name": "stdout",
     "output_type": "stream",
     "text": [
      "Garage\n",
      "No     999656\n",
      "Yes    999453\n",
      "Name: Price, dtype: int64\n"
     ]
    },
    {
     "data": {
      "text/plain": [
       "'\\nThere is not much difference in the price of the house by garage.\\n'"
      ]
     },
     "execution_count": 186,
     "metadata": {},
     "output_type": "execute_result"
    }
   ],
   "source": [
    "# the price of a hosue relative to the factor garage\n",
    "garage_max_price = origin_data.groupby('Garage')['Price'].max()\n",
    "print(garage_max_price)\n",
    "'''\n",
    "There is not much difference in the price of the house by garage.\n",
    "'''"
   ]
  },
  {
   "cell_type": "code",
   "execution_count": null,
   "id": "652de2ec-c625-4e03-b85f-dd269e2549fc",
   "metadata": {},
   "outputs": [],
   "source": [
    "plt.figure(figsize=(5,3))\n",
    "plt.bar(garage_max_price.index, garage_max_price, color=\"pink\")\n",
    "plt.xlabel(\"garage\")\n",
    "plt.ylabel(\"price\")\n",
    "plt.show()"
   ]
  },
  {
   "cell_type": "code",
   "execution_count": null,
   "id": "c8051562-b14e-435a-9856-a796891df26e",
   "metadata": {},
   "outputs": [],
   "source": [
    "\n"
   ]
  },
  {
   "cell_type": "code",
   "execution_count": null,
   "id": "62849b47-130f-4ca2-ac44-562f56f27934",
   "metadata": {},
   "outputs": [],
   "source": [
    "# Location count based on ID\n",
    "location_count = origin_data.groupby('Location')['Id'].count()\n",
    "print(location_count)"
   ]
  },
  {
   "cell_type": "code",
   "execution_count": null,
   "id": "bc723d50-a923-4cf0-8b46-e419955621ae",
   "metadata": {},
   "outputs": [],
   "source": [
    "plt.figure(figsize=(5,3))\n",
    "plt.bar(location_count.index, location_count, color=\"grey\")\n",
    "plt.title(\"location per Id\")\n",
    "plt.xlabel(\"location\")\n",
    "plt.ylabel(\"id\")\n",
    "plt.show()"
   ]
  },
  {
   "cell_type": "code",
   "execution_count": null,
   "id": "511dc2ba-e371-4046-9492-7f08fb92e0f0",
   "metadata": {},
   "outputs": [],
   "source": [
    "# Total price by area\n",
    "total_price_by_area = origin_data.groupby('Area')['Price'].mean()\n",
    "print(total_price_by_area)"
   ]
  },
  {
   "cell_type": "code",
   "execution_count": null,
   "id": "9570817a-44f6-410e-ba71-9930855bd208",
   "metadata": {},
   "outputs": [],
   "source": [
    "plt.figure(figsize=(5,3))\n",
    "plt.plot(total_price_by_area.index,total_price_by_area.values, color='r')\n",
    "plt.title(\"price by area\")\n",
    "plt.xlabel(\"Area\")\n",
    "plt.ylabel(\"price by area\")\n",
    "plt.show()\n",
    "           \n",
    "\n",
    "           \n",
    "\n",
    "\n",
    "\n",
    "\n",
    "\n"
   ]
  },
  {
   "cell_type": "code",
   "execution_count": null,
   "id": "4c245315-4e67-4c23-bd05-1918f07a095b",
   "metadata": {},
   "outputs": [],
   "source": [
    "# Data grouped by area\n",
    "total_houses_by_area = origin_data.groupby('Area')['Id'].count()\n",
    "print(total_houses_by_area)"
   ]
  },
  {
   "cell_type": "code",
   "execution_count": null,
   "id": "3c18907a-a1ca-4397-a7bb-851afb78a4b6",
   "metadata": {},
   "outputs": [],
   "source": [
    "origin_data[\"Price_per_sqft\"]=origin_data[\"Price\"]/origin_data[\"Area\"]\n",
    "origin_data.head()\n",
    "\n",
    "\n",
    "\n"
   ]
  },
  {
   "cell_type": "code",
   "execution_count": null,
   "id": "9e7f2f47-8197-411d-bd44-5db9364b9142",
   "metadata": {},
   "outputs": [],
   "source": [
    "# multi-level variables\n",
    "# -----------------------"
   ]
  },
  {
   "cell_type": "code",
   "execution_count": null,
   "id": "1f7773bc-60cb-4e1a-b3f4-ceca28e7eb7f",
   "metadata": {},
   "outputs": [],
   "source": [
    "# creation of variable showing the percentage of total houses in each location\n",
    "total_houses = location_count.sum()\n",
    "location_percentage = (location_count / total_houses) * 100\n",
    "print(\"Percentage of houses in each location:\")\n",
    "print(location_percentage)"
   ]
  },
  {
   "cell_type": "code",
   "execution_count": null,
   "id": "3f233c7b-a1e6-4b85-b0ce-dc451f2ae238",
   "metadata": {},
   "outputs": [],
   "source": [
    "plt.figure(figsize=(5,3))\n",
    "plt.pie(location_count,labels=location_count.index,autopct='%1.1f%%')\n",
    "plt.title(\"percentage of house by location\")\n",
    "\n",
    "\n",
    "plt.show()\n"
   ]
  },
  {
   "cell_type": "code",
   "execution_count": null,
   "id": "0db4fc5e-996e-4425-9b55-6fa7a01ad73e",
   "metadata": {
    "scrolled": true
   },
   "outputs": [],
   "source": [
    "#calculating the price per house by area (relative to the number of houses in an area\n",
    "price_per_house_by_area = total_price_by_area / total_houses_by_area\n",
    "print(price_per_house_by_area)"
   ]
  },
  {
   "cell_type": "code",
   "execution_count": null,
   "id": "b9297013-c9e5-49ae-a9fd-7cbc0160b88f",
   "metadata": {},
   "outputs": [],
   "source": [
    "total_price_by_area = origin_data.groupby('Area')['Price'].sum()\n",
    "print(total_price_by_area)"
   ]
  },
  {
   "cell_type": "code",
   "execution_count": null,
   "id": "1573f1ca-e727-4728-9ae6-35838bf1a1df",
   "metadata": {},
   "outputs": [],
   "source": [
    "\n",
    "import matplotlib.pyplot as plt\n",
    "total_price_by_area = origin_data.groupby('Condition')['Price'].sum()\n",
    "\n",
    "plt.bar(total_price_by_area.index,total_price_by_area.values, color='green')\n",
    "plt.title(\"Average price by condition\")\n",
    "plt.xlabel(\"Condition\")\n",
    "plt.ylabel(\"Average price\")\n",
    "plt.show()\n",
    "\n",
    "\n",
    "\n",
    "\n",
    "\n",
    "\n"
   ]
  },
  {
   "cell_type": "code",
   "execution_count": null,
   "id": "d8b00412-d4cd-48d7-8025-e70d48162d19",
   "metadata": {},
   "outputs": [],
   "source": [
    "origin_data.head()"
   ]
  },
  {
   "cell_type": "code",
   "execution_count": null,
   "id": "d8c91acb-8a26-4663-b89b-b849928751ee",
   "metadata": {},
   "outputs": [],
   "source": [
    "yearbuilt_condition= origin_data.groupby(\"Condition\")[\"Bedrooms\"].mean()\n",
    "yearbuilt_condition\n"
   ]
  },
  {
   "cell_type": "code",
   "execution_count": null,
   "id": "efb2e1f8-fc64-4e7e-843e-5eb2751de815",
   "metadata": {},
   "outputs": [],
   "source": [
    "floors_condition=origin_data.groupby(\"Floors\")[\"Price\"].min().round()\n",
    "floors_condition\n",
    "\n"
   ]
  },
  {
   "cell_type": "code",
   "execution_count": null,
   "id": "ac505cd9-ea40-44a6-9a4b-f331adc2552d",
   "metadata": {},
   "outputs": [],
   "source": [
    "floors_condition=origin_data.groupby(\"Floors\")[\"Price\"].max().round()\n",
    "floors_condition"
   ]
  },
  {
   "cell_type": "code",
   "execution_count": null,
   "id": "f1506f50-75a1-49f1-a1f2-a229648287a3",
   "metadata": {},
   "outputs": [],
   "source": [
    "price_by_floor=origin_data.groupby(\"Floors\").agg({\"Price\":[\"mean\",\"max\",\"min\",\"count\"]})\n",
    "price_by_floor"
   ]
  },
  {
   "cell_type": "code",
   "execution_count": null,
   "id": "c7e0c977-0a43-48c5-ae65-7c27098a1259",
   "metadata": {},
   "outputs": [],
   "source": [
    "price_by_location=origin_data.groupby(\"Location\").agg({\"Price\":[\"mean\",\"max\",\"min\",\"count\"]})\n",
    "price_by_location"
   ]
  },
  {
   "cell_type": "code",
   "execution_count": null,
   "id": "e7d38654-23bf-4a39-966c-4a87810832b3",
   "metadata": {},
   "outputs": [],
   "source": [
    "origin_data.head()\n"
   ]
  },
  {
   "cell_type": "code",
   "execution_count": null,
   "id": "1321ae04-ac23-4dd9-aa95-59c197bd6658",
   "metadata": {},
   "outputs": [],
   "source": [
    "# finign out the ,oldest house in the dataset\n",
    "#finding out the maximum price of the house by year built\n",
    "#findig out the minimum price of the house in downtown\n",
    "#finfing the average price of the hosue in downtom and otehr locations\n",
    "#based on the data set are we able to predict the proces of the hosues in 2030?\n",
    "#finding any outliers in the dataset\n",
    "# finding the smllest hosue by area and price \n",
    "#finding the average proce of the house with one bathroom \n",
    "#findinf th most expensive hosue in the dataset \n",
    "#finding the maximum price of the bosue with 5 bedrooms\n",
    "#finig the proce of the hosue with yes or no garage in all the locations \n",
    "#finding the average price of the house with ,1,2,3 floors min max aswell\n",
    "#finding the mqximum price of the hosue with 5 bedrooms  and so on \n",
    "\n"
   ]
  },
  {
   "cell_type": "code",
   "execution_count": null,
   "id": "49abc4ef-f7e0-4de5-b941-3220952bfb52",
   "metadata": {},
   "outputs": [],
   "source": [
    "origin_data.head()\n"
   ]
  },
  {
   "cell_type": "code",
   "execution_count": null,
   "id": "03b27ec5-cd7f-4317-b7ea-4ec227c1a901",
   "metadata": {},
   "outputs": [],
   "source": [
    "price_by_yearbuilt= origin_data.groupby(\"YearBuilt\")[\"Price\"].max()\n",
    "price_by_yearbuilt\n",
    "price_by_year= origin_data[origin_data\n"
   ]
  },
  {
   "cell_type": "code",
   "execution_count": null,
   "id": "bec5dd3f-8444-4eda-bb1d-d085767cf908",
   "metadata": {},
   "outputs": [],
   "source": [
    "origin_data.head()\n"
   ]
  },
  {
   "cell_type": "code",
   "execution_count": null,
   "id": "45547626-e867-466b-a7eb-783e78319086",
   "metadata": {},
   "outputs": [],
   "source": [
    "max_price_by_location= origin_data[origin_data[\"Location\"]==\"Downtown\"].groupby(\"Location\")[\"Price\"].max()\n",
    "max_price_by_location\n",
    "\n",
    "\n",
    "#sex_occupation=movie_merge[movie_merge[\"sex\"]==\"F\"].groupby(\"occupation\")[\"sex\"].count()\n",
    "#print(sex_occupation)\n",
    "pice_by_year= origin_data[origin_data[\"Year\"]== 1920].groupby(\"Year\")[\"Price\"].max()\n",
    "price_by_year\n"
   ]
  },
  {
   "cell_type": "code",
   "execution_count": null,
   "id": "568c4a0c-3585-4c67-86c9-2d2d8d4cd1ce",
   "metadata": {},
   "outputs": [],
   "source": [
    "max_price_by_location= origin_data[origin_data[\"Location\"]==\"Downtown\"].groupby(\"Location\")[\"Price\"].min()\n",
    "max_price_by_location\n"
   ]
  },
  {
   "cell_type": "code",
   "execution_count": null,
   "id": "a88870df-3d5a-4070-a96b-50eb541bdec3",
   "metadata": {},
   "outputs": [],
   "source": [
    "max_price_by_location= origin_data[origin_data[\"Location\"]==\"Downtown\"].groupby(\"Location\")[\"Price\"].mean().round()\n",
    "max_price_by_location"
   ]
  },
  {
   "cell_type": "code",
   "execution_count": null,
   "id": "96cb4ff4-9900-47c4-8376-076c79ee409c",
   "metadata": {},
   "outputs": [],
   "source": [
    "max_price_by_location= origin_data[origin_data[\"Location\"]==\"Rural\"].groupby(\"Location\")[\"Price\"].mean().round()\n",
    "max_price_by_location\n"
   ]
  },
  {
   "cell_type": "code",
   "execution_count": null,
   "id": "8c206c2c-cf97-4425-84bf-2cb261f39df2",
   "metadata": {},
   "outputs": [],
   "source": [
    "max_price_by_location= origin_data[origin_data[\"Location\"]==\"Suburban\"].groupby(\"Location\")[\"Price\"].mean().round()\n",
    "max_price_by_location\n"
   ]
  },
  {
   "cell_type": "code",
   "execution_count": null,
   "id": "7e3a711a-ade4-4e22-99ab-51b3cedad7e7",
   "metadata": {},
   "outputs": [],
   "source": [
    "max_price_by_location= origin_data[origin_data[\"Location\"]==\"Suburban\"].groupby(\"Location\")[\"Price\"].min().round()\n",
    "max_price_by_location\n"
   ]
  },
  {
   "cell_type": "code",
   "execution_count": null,
   "id": "51cc0016-7b42-4db6-9d30-62f6ed34dfca",
   "metadata": {},
   "outputs": [],
   "source": [
    "max_price_by_location= origin_data[origin_data[\"Location\"]==\"Suburban\"].groupby(\"Location\")[\"Price\"].max().round()\n",
    "max_price_by_location\n"
   ]
  },
  {
   "cell_type": "code",
   "execution_count": null,
   "id": "4d61b0b0-571d-4fd8-b02b-878b669364f4",
   "metadata": {},
   "outputs": [],
   "source": [
    "max_price_by_location= origin_data[origin_data[\"Location\"]==\"Downtown\"].groupby(\"Location\")[\"Price\"].mean().round()\n",
    "max_price_by_location"
   ]
  },
  {
   "cell_type": "code",
   "execution_count": null,
   "id": "633dd0d6-9ee1-47ce-8866-73d8c2d973d8",
   "metadata": {},
   "outputs": [],
   "source": [
    "orign_data.head(3)"
   ]
  },
  {
   "cell_type": "code",
   "execution_count": null,
   "id": "b4718b05-f018-47be-a021-8fcc11fdcffe",
   "metadata": {},
   "outputs": [],
   "source": []
  }
 ],
 "metadata": {
  "kernelspec": {
   "display_name": "Python 3 (ipykernel)",
   "language": "python",
   "name": "python3"
  },
  "language_info": {
   "codemirror_mode": {
    "name": "ipython",
    "version": 3
   },
   "file_extension": ".py",
   "mimetype": "text/x-python",
   "name": "python",
   "nbconvert_exporter": "python",
   "pygments_lexer": "ipython3",
   "version": "3.12.6"
  }
 },
 "nbformat": 4,
 "nbformat_minor": 5
}
