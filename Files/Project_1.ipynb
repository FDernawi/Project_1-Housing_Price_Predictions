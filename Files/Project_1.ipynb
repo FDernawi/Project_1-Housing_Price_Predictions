{
 "cells": [
  {
   "cell_type": "code",
   "execution_count": 1,
   "id": "73c940b9-9e93-43eb-bdb4-4df764b8b3b5",
   "metadata": {},
   "outputs": [],
   "source": [
    "#importing the dependencies\n",
    "import csv\n",
    "import pandas as pd\n",
    "from pathlib import Path\n",
    "import matplotlib.pyplot as plt"
   ]
  },
  {
   "cell_type": "code",
   "execution_count": 2,
   "id": "44b28439-71a7-4355-946c-b2fa695448dd",
   "metadata": {},
   "outputs": [],
   "source": [
    "# Load the dataset from the provided path\n",
    "\n",
    "origin_data = pd.read_csv(\"house_price_prediction_dataset.csv\")"
   ]
  },
  {
   "cell_type": "code",
   "execution_count": 3,
   "id": "6a8e393a-8e6f-435b-96a8-887830417d0b",
   "metadata": {},
   "outputs": [
    {
     "data": {
      "text/html": [
       "<div>\n",
       "<style scoped>\n",
       "    .dataframe tbody tr th:only-of-type {\n",
       "        vertical-align: middle;\n",
       "    }\n",
       "\n",
       "    .dataframe tbody tr th {\n",
       "        vertical-align: top;\n",
       "    }\n",
       "\n",
       "    .dataframe thead th {\n",
       "        text-align: right;\n",
       "    }\n",
       "</style>\n",
       "<table border=\"1\" class=\"dataframe\">\n",
       "  <thead>\n",
       "    <tr style=\"text-align: right;\">\n",
       "      <th></th>\n",
       "      <th>Id</th>\n",
       "      <th>Area</th>\n",
       "      <th>Bedrooms</th>\n",
       "      <th>Bathrooms</th>\n",
       "      <th>Floors</th>\n",
       "      <th>YearBuilt</th>\n",
       "      <th>Location</th>\n",
       "      <th>Condition</th>\n",
       "      <th>Garage</th>\n",
       "      <th>Price</th>\n",
       "    </tr>\n",
       "  </thead>\n",
       "  <tbody>\n",
       "    <tr>\n",
       "      <th>0</th>\n",
       "      <td>1</td>\n",
       "      <td>1360</td>\n",
       "      <td>5</td>\n",
       "      <td>4</td>\n",
       "      <td>3</td>\n",
       "      <td>1970</td>\n",
       "      <td>Downtown</td>\n",
       "      <td>Excellent</td>\n",
       "      <td>No</td>\n",
       "      <td>149919</td>\n",
       "    </tr>\n",
       "    <tr>\n",
       "      <th>1</th>\n",
       "      <td>2</td>\n",
       "      <td>4272</td>\n",
       "      <td>5</td>\n",
       "      <td>4</td>\n",
       "      <td>3</td>\n",
       "      <td>1958</td>\n",
       "      <td>Downtown</td>\n",
       "      <td>Excellent</td>\n",
       "      <td>No</td>\n",
       "      <td>424998</td>\n",
       "    </tr>\n",
       "    <tr>\n",
       "      <th>2</th>\n",
       "      <td>3</td>\n",
       "      <td>3592</td>\n",
       "      <td>2</td>\n",
       "      <td>2</td>\n",
       "      <td>3</td>\n",
       "      <td>1938</td>\n",
       "      <td>Downtown</td>\n",
       "      <td>Good</td>\n",
       "      <td>No</td>\n",
       "      <td>266746</td>\n",
       "    </tr>\n",
       "    <tr>\n",
       "      <th>3</th>\n",
       "      <td>4</td>\n",
       "      <td>966</td>\n",
       "      <td>4</td>\n",
       "      <td>2</td>\n",
       "      <td>2</td>\n",
       "      <td>1902</td>\n",
       "      <td>Suburban</td>\n",
       "      <td>Fair</td>\n",
       "      <td>Yes</td>\n",
       "      <td>244020</td>\n",
       "    </tr>\n",
       "    <tr>\n",
       "      <th>4</th>\n",
       "      <td>5</td>\n",
       "      <td>4926</td>\n",
       "      <td>1</td>\n",
       "      <td>4</td>\n",
       "      <td>2</td>\n",
       "      <td>1975</td>\n",
       "      <td>Downtown</td>\n",
       "      <td>Fair</td>\n",
       "      <td>Yes</td>\n",
       "      <td>636056</td>\n",
       "    </tr>\n",
       "  </tbody>\n",
       "</table>\n",
       "</div>"
      ],
      "text/plain": [
       "   Id  Area  Bedrooms  Bathrooms  Floors  YearBuilt  Location  Condition  \\\n",
       "0   1  1360         5          4       3       1970  Downtown  Excellent   \n",
       "1   2  4272         5          4       3       1958  Downtown  Excellent   \n",
       "2   3  3592         2          2       3       1938  Downtown       Good   \n",
       "3   4   966         4          2       2       1902  Suburban       Fair   \n",
       "4   5  4926         1          4       2       1975  Downtown       Fair   \n",
       "\n",
       "  Garage   Price  \n",
       "0     No  149919  \n",
       "1     No  424998  \n",
       "2     No  266746  \n",
       "3    Yes  244020  \n",
       "4    Yes  636056  "
      ]
     },
     "execution_count": 3,
     "metadata": {},
     "output_type": "execute_result"
    }
   ],
   "source": [
    "# Displaying the unfiltered first 5 rows of data\n",
    "origin_data.head()"
   ]
  },
  {
   "cell_type": "code",
   "execution_count": 7,
   "id": "ec760798-cbae-41b5-a605-c4fc4073f880",
   "metadata": {},
   "outputs": [
    {
     "data": {
      "text/plain": [
       "(2000, 10)"
      ]
     },
     "execution_count": 7,
     "metadata": {},
     "output_type": "execute_result"
    }
   ],
   "source": [
    "# Describing the shape of the data by indicating the number of rows and columns (rows , columns)\n",
    "origin_data.shape"
   ]
  },
  {
   "cell_type": "code",
   "execution_count": 4,
   "id": "be486ec1-e1e9-4cf7-b3e4-eed38fc30cbe",
   "metadata": {},
   "outputs": [
    {
     "data": {
      "text/html": [
       "<div>\n",
       "<style scoped>\n",
       "    .dataframe tbody tr th:only-of-type {\n",
       "        vertical-align: middle;\n",
       "    }\n",
       "\n",
       "    .dataframe tbody tr th {\n",
       "        vertical-align: top;\n",
       "    }\n",
       "\n",
       "    .dataframe thead th {\n",
       "        text-align: right;\n",
       "    }\n",
       "</style>\n",
       "<table border=\"1\" class=\"dataframe\">\n",
       "  <thead>\n",
       "    <tr style=\"text-align: right;\">\n",
       "      <th></th>\n",
       "      <th>Id</th>\n",
       "      <th>Area</th>\n",
       "      <th>Bedrooms</th>\n",
       "      <th>Bathrooms</th>\n",
       "      <th>Floors</th>\n",
       "      <th>YearBuilt</th>\n",
       "      <th>Location</th>\n",
       "      <th>Condition</th>\n",
       "      <th>Garage</th>\n",
       "      <th>Price</th>\n",
       "    </tr>\n",
       "  </thead>\n",
       "  <tbody>\n",
       "    <tr>\n",
       "      <th>0</th>\n",
       "      <td>1</td>\n",
       "      <td>1360</td>\n",
       "      <td>5</td>\n",
       "      <td>4</td>\n",
       "      <td>3</td>\n",
       "      <td>1970</td>\n",
       "      <td>Downtown</td>\n",
       "      <td>Excellent</td>\n",
       "      <td>No</td>\n",
       "      <td>149919</td>\n",
       "    </tr>\n",
       "    <tr>\n",
       "      <th>1</th>\n",
       "      <td>2</td>\n",
       "      <td>4272</td>\n",
       "      <td>5</td>\n",
       "      <td>4</td>\n",
       "      <td>3</td>\n",
       "      <td>1958</td>\n",
       "      <td>Downtown</td>\n",
       "      <td>Excellent</td>\n",
       "      <td>No</td>\n",
       "      <td>424998</td>\n",
       "    </tr>\n",
       "    <tr>\n",
       "      <th>2</th>\n",
       "      <td>3</td>\n",
       "      <td>3592</td>\n",
       "      <td>2</td>\n",
       "      <td>2</td>\n",
       "      <td>3</td>\n",
       "      <td>1938</td>\n",
       "      <td>Downtown</td>\n",
       "      <td>Good</td>\n",
       "      <td>No</td>\n",
       "      <td>266746</td>\n",
       "    </tr>\n",
       "    <tr>\n",
       "      <th>3</th>\n",
       "      <td>4</td>\n",
       "      <td>966</td>\n",
       "      <td>4</td>\n",
       "      <td>2</td>\n",
       "      <td>2</td>\n",
       "      <td>1902</td>\n",
       "      <td>Suburban</td>\n",
       "      <td>Fair</td>\n",
       "      <td>Yes</td>\n",
       "      <td>244020</td>\n",
       "    </tr>\n",
       "    <tr>\n",
       "      <th>4</th>\n",
       "      <td>5</td>\n",
       "      <td>4926</td>\n",
       "      <td>1</td>\n",
       "      <td>4</td>\n",
       "      <td>2</td>\n",
       "      <td>1975</td>\n",
       "      <td>Downtown</td>\n",
       "      <td>Fair</td>\n",
       "      <td>Yes</td>\n",
       "      <td>636056</td>\n",
       "    </tr>\n",
       "    <tr>\n",
       "      <th>5</th>\n",
       "      <td>6</td>\n",
       "      <td>3944</td>\n",
       "      <td>1</td>\n",
       "      <td>2</td>\n",
       "      <td>1</td>\n",
       "      <td>1906</td>\n",
       "      <td>Urban</td>\n",
       "      <td>Poor</td>\n",
       "      <td>No</td>\n",
       "      <td>93262</td>\n",
       "    </tr>\n",
       "    <tr>\n",
       "      <th>6</th>\n",
       "      <td>7</td>\n",
       "      <td>3671</td>\n",
       "      <td>1</td>\n",
       "      <td>1</td>\n",
       "      <td>2</td>\n",
       "      <td>1948</td>\n",
       "      <td>Rural</td>\n",
       "      <td>Poor</td>\n",
       "      <td>Yes</td>\n",
       "      <td>448722</td>\n",
       "    </tr>\n",
       "    <tr>\n",
       "      <th>7</th>\n",
       "      <td>8</td>\n",
       "      <td>3419</td>\n",
       "      <td>2</td>\n",
       "      <td>4</td>\n",
       "      <td>1</td>\n",
       "      <td>1925</td>\n",
       "      <td>Suburban</td>\n",
       "      <td>Good</td>\n",
       "      <td>Yes</td>\n",
       "      <td>594893</td>\n",
       "    </tr>\n",
       "    <tr>\n",
       "      <th>8</th>\n",
       "      <td>9</td>\n",
       "      <td>630</td>\n",
       "      <td>2</td>\n",
       "      <td>2</td>\n",
       "      <td>1</td>\n",
       "      <td>1932</td>\n",
       "      <td>Rural</td>\n",
       "      <td>Poor</td>\n",
       "      <td>Yes</td>\n",
       "      <td>652878</td>\n",
       "    </tr>\n",
       "    <tr>\n",
       "      <th>9</th>\n",
       "      <td>10</td>\n",
       "      <td>2185</td>\n",
       "      <td>3</td>\n",
       "      <td>3</td>\n",
       "      <td>1</td>\n",
       "      <td>2000</td>\n",
       "      <td>Downtown</td>\n",
       "      <td>Poor</td>\n",
       "      <td>No</td>\n",
       "      <td>340375</td>\n",
       "    </tr>\n",
       "    <tr>\n",
       "      <th>10</th>\n",
       "      <td>11</td>\n",
       "      <td>1269</td>\n",
       "      <td>1</td>\n",
       "      <td>4</td>\n",
       "      <td>2</td>\n",
       "      <td>1947</td>\n",
       "      <td>Suburban</td>\n",
       "      <td>Poor</td>\n",
       "      <td>Yes</td>\n",
       "      <td>653685</td>\n",
       "    </tr>\n",
       "    <tr>\n",
       "      <th>11</th>\n",
       "      <td>12</td>\n",
       "      <td>2891</td>\n",
       "      <td>4</td>\n",
       "      <td>4</td>\n",
       "      <td>3</td>\n",
       "      <td>1978</td>\n",
       "      <td>Urban</td>\n",
       "      <td>Excellent</td>\n",
       "      <td>Yes</td>\n",
       "      <td>127123</td>\n",
       "    </tr>\n",
       "    <tr>\n",
       "      <th>12</th>\n",
       "      <td>13</td>\n",
       "      <td>2933</td>\n",
       "      <td>4</td>\n",
       "      <td>3</td>\n",
       "      <td>2</td>\n",
       "      <td>1901</td>\n",
       "      <td>Downtown</td>\n",
       "      <td>Poor</td>\n",
       "      <td>No</td>\n",
       "      <td>849947</td>\n",
       "    </tr>\n",
       "    <tr>\n",
       "      <th>13</th>\n",
       "      <td>14</td>\n",
       "      <td>1684</td>\n",
       "      <td>1</td>\n",
       "      <td>1</td>\n",
       "      <td>1</td>\n",
       "      <td>2004</td>\n",
       "      <td>Rural</td>\n",
       "      <td>Good</td>\n",
       "      <td>No</td>\n",
       "      <td>399355</td>\n",
       "    </tr>\n",
       "    <tr>\n",
       "      <th>14</th>\n",
       "      <td>15</td>\n",
       "      <td>3885</td>\n",
       "      <td>1</td>\n",
       "      <td>3</td>\n",
       "      <td>1</td>\n",
       "      <td>1970</td>\n",
       "      <td>Urban</td>\n",
       "      <td>Fair</td>\n",
       "      <td>Yes</td>\n",
       "      <td>481838</td>\n",
       "    </tr>\n",
       "    <tr>\n",
       "      <th>15</th>\n",
       "      <td>16</td>\n",
       "      <td>4617</td>\n",
       "      <td>1</td>\n",
       "      <td>4</td>\n",
       "      <td>2</td>\n",
       "      <td>1931</td>\n",
       "      <td>Downtown</td>\n",
       "      <td>Poor</td>\n",
       "      <td>No</td>\n",
       "      <td>853032</td>\n",
       "    </tr>\n",
       "    <tr>\n",
       "      <th>16</th>\n",
       "      <td>17</td>\n",
       "      <td>3404</td>\n",
       "      <td>2</td>\n",
       "      <td>1</td>\n",
       "      <td>1</td>\n",
       "      <td>1903</td>\n",
       "      <td>Urban</td>\n",
       "      <td>Fair</td>\n",
       "      <td>Yes</td>\n",
       "      <td>208964</td>\n",
       "    </tr>\n",
       "    <tr>\n",
       "      <th>17</th>\n",
       "      <td>18</td>\n",
       "      <td>974</td>\n",
       "      <td>2</td>\n",
       "      <td>2</td>\n",
       "      <td>1</td>\n",
       "      <td>1919</td>\n",
       "      <td>Downtown</td>\n",
       "      <td>Poor</td>\n",
       "      <td>Yes</td>\n",
       "      <td>905742</td>\n",
       "    </tr>\n",
       "    <tr>\n",
       "      <th>18</th>\n",
       "      <td>19</td>\n",
       "      <td>1582</td>\n",
       "      <td>2</td>\n",
       "      <td>2</td>\n",
       "      <td>2</td>\n",
       "      <td>2013</td>\n",
       "      <td>Suburban</td>\n",
       "      <td>Good</td>\n",
       "      <td>No</td>\n",
       "      <td>989305</td>\n",
       "    </tr>\n",
       "    <tr>\n",
       "      <th>19</th>\n",
       "      <td>20</td>\n",
       "      <td>3058</td>\n",
       "      <td>5</td>\n",
       "      <td>2</td>\n",
       "      <td>2</td>\n",
       "      <td>2016</td>\n",
       "      <td>Downtown</td>\n",
       "      <td>Excellent</td>\n",
       "      <td>No</td>\n",
       "      <td>218767</td>\n",
       "    </tr>\n",
       "  </tbody>\n",
       "</table>\n",
       "</div>"
      ],
      "text/plain": [
       "    Id  Area  Bedrooms  Bathrooms  Floors  YearBuilt  Location  Condition  \\\n",
       "0    1  1360         5          4       3       1970  Downtown  Excellent   \n",
       "1    2  4272         5          4       3       1958  Downtown  Excellent   \n",
       "2    3  3592         2          2       3       1938  Downtown       Good   \n",
       "3    4   966         4          2       2       1902  Suburban       Fair   \n",
       "4    5  4926         1          4       2       1975  Downtown       Fair   \n",
       "5    6  3944         1          2       1       1906     Urban       Poor   \n",
       "6    7  3671         1          1       2       1948     Rural       Poor   \n",
       "7    8  3419         2          4       1       1925  Suburban       Good   \n",
       "8    9   630         2          2       1       1932     Rural       Poor   \n",
       "9   10  2185         3          3       1       2000  Downtown       Poor   \n",
       "10  11  1269         1          4       2       1947  Suburban       Poor   \n",
       "11  12  2891         4          4       3       1978     Urban  Excellent   \n",
       "12  13  2933         4          3       2       1901  Downtown       Poor   \n",
       "13  14  1684         1          1       1       2004     Rural       Good   \n",
       "14  15  3885         1          3       1       1970     Urban       Fair   \n",
       "15  16  4617         1          4       2       1931  Downtown       Poor   \n",
       "16  17  3404         2          1       1       1903     Urban       Fair   \n",
       "17  18   974         2          2       1       1919  Downtown       Poor   \n",
       "18  19  1582         2          2       2       2013  Suburban       Good   \n",
       "19  20  3058         5          2       2       2016  Downtown  Excellent   \n",
       "\n",
       "   Garage   Price  \n",
       "0      No  149919  \n",
       "1      No  424998  \n",
       "2      No  266746  \n",
       "3     Yes  244020  \n",
       "4     Yes  636056  \n",
       "5      No   93262  \n",
       "6     Yes  448722  \n",
       "7     Yes  594893  \n",
       "8     Yes  652878  \n",
       "9      No  340375  \n",
       "10    Yes  653685  \n",
       "11    Yes  127123  \n",
       "12     No  849947  \n",
       "13     No  399355  \n",
       "14    Yes  481838  \n",
       "15     No  853032  \n",
       "16    Yes  208964  \n",
       "17    Yes  905742  \n",
       "18     No  989305  \n",
       "19     No  218767  "
      ]
     },
     "execution_count": 4,
     "metadata": {},
     "output_type": "execute_result"
    }
   ],
   "source": [
    "# Fetching first 20 rows\n",
    "origin_data.head(20)"
   ]
  },
  {
   "cell_type": "code",
   "execution_count": 5,
   "id": "34df6428-10cc-4e30-b146-176b5102c39e",
   "metadata": {},
   "outputs": [
    {
     "data": {
      "text/plain": [
       "np.int64(0)"
      ]
     },
     "execution_count": 5,
     "metadata": {},
     "output_type": "execute_result"
    }
   ],
   "source": [
    "# Checking for any duplicate values\n",
    "origin_data.duplicated().sum()"
   ]
  },
  {
   "cell_type": "code",
   "execution_count": 6,
   "id": "5ecf17c0-977e-4c3d-bc9a-6a17581ec1f4",
   "metadata": {},
   "outputs": [
    {
     "data": {
      "text/plain": [
       "Id            int64\n",
       "Area          int64\n",
       "Bedrooms      int64\n",
       "Bathrooms     int64\n",
       "Floors        int64\n",
       "YearBuilt     int64\n",
       "Location     object\n",
       "Condition    object\n",
       "Garage       object\n",
       "Price         int64\n",
       "dtype: object"
      ]
     },
     "execution_count": 6,
     "metadata": {},
     "output_type": "execute_result"
    }
   ],
   "source": [
    "# Finding the datatype\n",
    "origin_data.dtypes"
   ]
  },
  {
   "cell_type": "code",
   "execution_count": 11,
   "id": "0c19e657-26ed-41c3-befe-ecafb0e17649",
   "metadata": {},
   "outputs": [
    {
     "name": "stdout",
     "output_type": "stream",
     "text": [
      "<class 'pandas.core.frame.DataFrame'>\n",
      "RangeIndex: 2000 entries, 0 to 1999\n",
      "Data columns (total 10 columns):\n",
      " #   Column     Non-Null Count  Dtype \n",
      "---  ------     --------------  ----- \n",
      " 0   Id         2000 non-null   int64 \n",
      " 1   Area       2000 non-null   int64 \n",
      " 2   Bedrooms   2000 non-null   int64 \n",
      " 3   Bathrooms  2000 non-null   int64 \n",
      " 4   Floors     2000 non-null   int64 \n",
      " 5   YearBuilt  2000 non-null   int64 \n",
      " 6   Location   2000 non-null   object\n",
      " 7   Condition  2000 non-null   object\n",
      " 8   Garage     2000 non-null   object\n",
      " 9   Price      2000 non-null   int64 \n",
      "dtypes: int64(7), object(3)\n",
      "memory usage: 156.4+ KB\n"
     ]
    }
   ],
   "source": [
    "origin_data.info()"
   ]
  },
  {
   "cell_type": "code",
   "execution_count": 7,
   "id": "22ec4fac-75e7-4103-a369-7d858d57c352",
   "metadata": {},
   "outputs": [
    {
     "data": {
      "text/plain": [
       "Id           0\n",
       "Area         0\n",
       "Bedrooms     0\n",
       "Bathrooms    0\n",
       "Floors       0\n",
       "YearBuilt    0\n",
       "Location     0\n",
       "Condition    0\n",
       "Garage       0\n",
       "Price        0\n",
       "dtype: int64"
      ]
     },
     "execution_count": 7,
     "metadata": {},
     "output_type": "execute_result"
    }
   ],
   "source": [
    "# Checking to see if we have any null values within the dataset\n",
    "origin_data.isnull().sum()"
   ]
  },
  {
   "cell_type": "code",
   "execution_count": 8,
   "id": "1969f501-7068-4123-b04e-f96db9d5ed93",
   "metadata": {},
   "outputs": [
    {
     "data": {
      "text/html": [
       "<div>\n",
       "<style scoped>\n",
       "    .dataframe tbody tr th:only-of-type {\n",
       "        vertical-align: middle;\n",
       "    }\n",
       "\n",
       "    .dataframe tbody tr th {\n",
       "        vertical-align: top;\n",
       "    }\n",
       "\n",
       "    .dataframe thead th {\n",
       "        text-align: right;\n",
       "    }\n",
       "</style>\n",
       "<table border=\"1\" class=\"dataframe\">\n",
       "  <thead>\n",
       "    <tr style=\"text-align: right;\">\n",
       "      <th></th>\n",
       "      <th>Id</th>\n",
       "      <th>Area</th>\n",
       "      <th>Bedrooms</th>\n",
       "      <th>Bathrooms</th>\n",
       "      <th>Floors</th>\n",
       "      <th>YearBuilt</th>\n",
       "      <th>Location</th>\n",
       "      <th>Condition</th>\n",
       "      <th>Garage</th>\n",
       "      <th>Price</th>\n",
       "    </tr>\n",
       "  </thead>\n",
       "  <tbody>\n",
       "    <tr>\n",
       "      <th>0</th>\n",
       "      <td>1</td>\n",
       "      <td>1360</td>\n",
       "      <td>5</td>\n",
       "      <td>4</td>\n",
       "      <td>3</td>\n",
       "      <td>1970</td>\n",
       "      <td>Downtown</td>\n",
       "      <td>Excellent</td>\n",
       "      <td>No</td>\n",
       "      <td>149919</td>\n",
       "    </tr>\n",
       "    <tr>\n",
       "      <th>1</th>\n",
       "      <td>2</td>\n",
       "      <td>4272</td>\n",
       "      <td>5</td>\n",
       "      <td>4</td>\n",
       "      <td>3</td>\n",
       "      <td>1958</td>\n",
       "      <td>Downtown</td>\n",
       "      <td>Excellent</td>\n",
       "      <td>No</td>\n",
       "      <td>424998</td>\n",
       "    </tr>\n",
       "    <tr>\n",
       "      <th>2</th>\n",
       "      <td>3</td>\n",
       "      <td>3592</td>\n",
       "      <td>2</td>\n",
       "      <td>2</td>\n",
       "      <td>3</td>\n",
       "      <td>1938</td>\n",
       "      <td>Downtown</td>\n",
       "      <td>Good</td>\n",
       "      <td>No</td>\n",
       "      <td>266746</td>\n",
       "    </tr>\n",
       "    <tr>\n",
       "      <th>3</th>\n",
       "      <td>4</td>\n",
       "      <td>966</td>\n",
       "      <td>4</td>\n",
       "      <td>2</td>\n",
       "      <td>2</td>\n",
       "      <td>1902</td>\n",
       "      <td>Suburban</td>\n",
       "      <td>Fair</td>\n",
       "      <td>Yes</td>\n",
       "      <td>244020</td>\n",
       "    </tr>\n",
       "    <tr>\n",
       "      <th>4</th>\n",
       "      <td>5</td>\n",
       "      <td>4926</td>\n",
       "      <td>1</td>\n",
       "      <td>4</td>\n",
       "      <td>2</td>\n",
       "      <td>1975</td>\n",
       "      <td>Downtown</td>\n",
       "      <td>Fair</td>\n",
       "      <td>Yes</td>\n",
       "      <td>636056</td>\n",
       "    </tr>\n",
       "  </tbody>\n",
       "</table>\n",
       "</div>"
      ],
      "text/plain": [
       "   Id  Area  Bedrooms  Bathrooms  Floors  YearBuilt  Location  Condition  \\\n",
       "0   1  1360         5          4       3       1970  Downtown  Excellent   \n",
       "1   2  4272         5          4       3       1958  Downtown  Excellent   \n",
       "2   3  3592         2          2       3       1938  Downtown       Good   \n",
       "3   4   966         4          2       2       1902  Suburban       Fair   \n",
       "4   5  4926         1          4       2       1975  Downtown       Fair   \n",
       "\n",
       "  Garage   Price  \n",
       "0     No  149919  \n",
       "1     No  424998  \n",
       "2     No  266746  \n",
       "3    Yes  244020  \n",
       "4    Yes  636056  "
      ]
     },
     "execution_count": 8,
     "metadata": {},
     "output_type": "execute_result"
    }
   ],
   "source": [
    "origin_data.head()"
   ]
  },
  {
   "cell_type": "code",
   "execution_count": 14,
   "id": "3fd0977d-8dd9-4520-a909-e5a27d02386e",
   "metadata": {},
   "outputs": [],
   "source": [
    "# Creation of single level variables\n",
    "# ----------------------"
   ]
  },
  {
   "cell_type": "code",
   "execution_count": 9,
   "id": "5e3e99d3-623c-41f4-afe2-283d54afceb8",
   "metadata": {},
   "outputs": [
    {
     "name": "stdout",
     "output_type": "stream",
     "text": [
      "Location\n",
      "Downtown    536059.66\n",
      "Rural       538613.94\n",
      "Suburban    557416.33\n",
      "Urban       518963.55\n",
      "Name: Price, dtype: float64\n"
     ]
    }
   ],
   "source": [
    "# finding the average price depending on the location (analysis),rounding to two decimal\n",
    "location_price = origin_data.groupby(\"Location\")[\"Price\"].mean().round(2)\n",
    "print(location_price)"
   ]
  },
  {
   "cell_type": "code",
   "execution_count": 10,
   "id": "b5a48391-1c76-4f8a-90d7-fb6c4ac9f298",
   "metadata": {},
   "outputs": [
    {
     "name": "stdout",
     "output_type": "stream",
     "text": [
      "Condition\n",
      "Excellent    530812.01\n",
      "Fair         560594.14\n",
      "Good         529002.35\n",
      "Poor         528933.22\n",
      "Name: Price, dtype: float64\n"
     ]
    }
   ],
   "source": [
    " # findinf the average priceof the house by condition(excellent,good ,poor)\n",
    "condition_price = origin_data.groupby(\"Condition\")[\"Price\"].mean().round(2)\n",
    "print(condition_price)"
   ]
  },
  {
   "cell_type": "code",
   "execution_count": 11,
   "id": "cfbb7753-4c01-4a4d-b05b-cb2542ef5e03",
   "metadata": {},
   "outputs": [
    {
     "name": "stdout",
     "output_type": "stream",
     "text": [
      "Bedrooms\n",
      "1    530561.6\n",
      "2    545546.5\n",
      "3    546977.9\n",
      "4    533696.9\n",
      "5    532500.1\n",
      "Name: Price, dtype: float64\n"
     ]
    }
   ],
   "source": [
    "# analysing the price of house based on number of bedrooms\n",
    "bedroom_price = origin_data.groupby(\"Bedrooms\")[\"Price\"].mean().round(1)\n",
    "print(bedroom_price)"
   ]
  },
  {
   "cell_type": "code",
   "execution_count": 22,
   "id": "48ff70ab-d4f5-4a57-92c9-e244fa9426ba",
   "metadata": {},
   "outputs": [
    {
     "ename": "TypeError",
     "evalue": "'str' object is not callable",
     "output_type": "error",
     "traceback": [
      "\u001b[1;31m---------------------------------------------------------------------------\u001b[0m",
      "\u001b[1;31mTypeError\u001b[0m                                 Traceback (most recent call last)",
      "Cell \u001b[1;32mIn[22], line 3\u001b[0m\n\u001b[0;32m      1\u001b[0m plt\u001b[38;5;241m.\u001b[39mfigure(figsize\u001b[38;5;241m=\u001b[39m(\u001b[38;5;241m5\u001b[39m,\u001b[38;5;241m3\u001b[39m))\n\u001b[0;32m      2\u001b[0m plt\u001b[38;5;241m.\u001b[39mbar(bedroom_price\u001b[38;5;241m.\u001b[39mindex ,bedroom_price, color\u001b[38;5;241m=\u001b[39m\u001b[38;5;124m'\u001b[39m\u001b[38;5;124mr\u001b[39m\u001b[38;5;124m'\u001b[39m, alpha\u001b[38;5;241m=\u001b[39m \u001b[38;5;241m0.7\u001b[39m, align\u001b[38;5;241m=\u001b[39m \u001b[38;5;124m'\u001b[39m\u001b[38;5;124mcenter\u001b[39m\u001b[38;5;124m'\u001b[39m)\n\u001b[1;32m----> 3\u001b[0m \u001b[43mplt\u001b[49m\u001b[38;5;241;43m.\u001b[39;49m\u001b[43mtitle\u001b[49m\u001b[43m(\u001b[49m\u001b[38;5;124;43m'\u001b[39;49m\u001b[38;5;124;43mPrice Based on Number of Bedrooms\u001b[39;49m\u001b[38;5;124;43m'\u001b[39;49m\u001b[43m)\u001b[49m\n\u001b[0;32m      4\u001b[0m plt\u001b[38;5;241m.\u001b[39mxlabel(\u001b[38;5;124m\"\u001b[39m\u001b[38;5;124mNumber of Bedrooms\u001b[39m\u001b[38;5;124m\"\u001b[39m)\n\u001b[0;32m      5\u001b[0m plt\u001b[38;5;241m.\u001b[39mylabel(\u001b[38;5;124m\"\u001b[39m\u001b[38;5;124mAveragePrice\u001b[39m\u001b[38;5;124m\"\u001b[39m)\n",
      "\u001b[1;31mTypeError\u001b[0m: 'str' object is not callable"
     ]
    },
    {
     "data": {
      "image/png": "[encoded data removed]",
      "text/plain": [
       "<Figure size 500x300 with 1 Axes>"
      ]
     },
     "metadata": {},
     "output_type": "display_data"
    }
   ],
   "source": [
    "plt.figure(figsize=(5,3))\n",
    "plt.bar(bedroom_price.index ,bedroom_price, color='r', alpha= 0.7, align= 'center')\n",
    "plt.title('Price Based on Number of Bedrooms')\n",
    "plt.xlabel(\"Number of Bedrooms\")\n",
    "plt.ylabel(\"AveragePrice\")\n",
    "plt.show()\n",
    "           "
   ]
  },
  {
   "cell_type": "code",
   "execution_count": 18,
   "id": "50237026-7423-4fcd-8843-342c0ca9d613",
   "metadata": {},
   "outputs": [
    {
     "name": "stdout",
     "output_type": "stream",
     "text": [
      "YearBuilt\n",
      "1900    493795.5\n",
      "1901    610085.0\n",
      "1902    559565.5\n",
      "1903    298089.0\n",
      "1904    716217.0\n",
      "          ...   \n",
      "2019    609099.5\n",
      "2020    532055.0\n",
      "2021    440890.5\n",
      "2022    499862.5\n",
      "2023    687835.5\n",
      "Name: Price, Length: 124, dtype: float64\n"
     ]
    }
   ],
   "source": [
    "#creation of variable to show the median price based on the year built\n",
    "yearbuilt_median_price = origin_data.groupby('YearBuilt')['Price'].median()\n",
    "print(yearbuilt_median_price)"
   ]
  },
  {
   "cell_type": "code",
   "execution_count": 19,
   "id": "ac6b46b6-d7f6-47dd-a4cc-90e8adf2bf1f",
   "metadata": {},
   "outputs": [
    {
     "name": "stdout",
     "output_type": "stream",
     "text": [
      "0        54\n",
      "1        66\n",
      "2        86\n",
      "3       122\n",
      "4        49\n",
      "       ... \n",
      "1995    101\n",
      "1996      5\n",
      "1997    121\n",
      "1998     88\n",
      "1999    121\n",
      "Name: YearBuilt, Length: 2000, dtype: int64\n"
     ]
    }
   ],
   "source": [
    "# create a new column for the age of the house:(addinf a new columns name age_of_house)\n",
    "house_age = origin_data[\"Age_of_House\"]= 2024-origin_data[\"YearBuilt\"]\n",
    "print(house_age)"
   ]
  },
  {
   "cell_type": "code",
   "execution_count": 20,
   "id": "e281fb14-0bd5-42f6-8d30-2b6e850d4213",
   "metadata": {},
   "outputs": [
    {
     "name": "stdout",
     "output_type": "stream",
     "text": [
      "Floors\n",
      "1    2748.756430\n",
      "2    2804.050651\n",
      "3    2805.388889\n",
      "Name: Area, dtype: float64\n"
     ]
    }
   ],
   "source": [
    "# New Variable created testing the floor area average\n",
    "floors_avg_area = origin_data.groupby('Floors')['Area'].mean()\n",
    "print(floors_avg_area)"
   ]
  },
  {
   "cell_type": "code",
   "execution_count": 21,
   "id": "cfc2018e-d608-47e8-bcc3-91b7a481981e",
   "metadata": {},
   "outputs": [
    {
     "name": "stdout",
     "output_type": "stream",
     "text": [
      "Bathrooms\n",
      "1    51082\n",
      "2    50005\n",
      "3    53657\n",
      "4    51845\n",
      "Name: Price, dtype: int64\n"
     ]
    }
   ],
   "source": [
    "# New variable to determine price by number of bathrooms present in house\n",
    "bathrooms_min_price = origin_data.groupby('Bathrooms')['Price'].min()\n",
    "print(bathrooms_min_price)"
   ]
  },
  {
   "cell_type": "code",
   "execution_count": 22,
   "id": "4ace7fdc-5b0f-4575-a9d9-d6b3f4630d7b",
   "metadata": {},
   "outputs": [
    {
     "name": "stdout",
     "output_type": "stream",
     "text": [
      "Location  Condition\n",
      "Downtown  Excellent    524477.967320\n",
      "          Fair         584624.766423\n",
      "          Good         510704.191176\n",
      "          Poor         525203.022727\n",
      "Rural     Excellent    547966.141667\n",
      "          Fair         579754.727273\n",
      "          Good         500956.690000\n",
      "          Poor         515768.680328\n",
      "Suburban  Excellent    553103.377049\n",
      "          Fair         562783.795276\n",
      "          Good         570986.252252\n",
      "          Poor         543906.186992\n",
      "Urban     Excellent    497976.370690\n",
      "          Fair         511798.304000\n",
      "          Good         534554.131579\n",
      "          Poor         530908.484615\n",
      "Name: Price, dtype: float64\n"
     ]
    }
   ],
   "source": [
    "# Location conditions relative to the average price\n",
    "location_condition_avg_price = origin_data.groupby(['Location', 'Condition'])['Price'].mean()\n",
    "print(location_condition_avg_price)"
   ]
  },
  {
   "cell_type": "code",
   "execution_count": 23,
   "id": "bf11bb63-d530-4498-bde0-89adfec09917",
   "metadata": {},
   "outputs": [
    {
     "name": "stdout",
     "output_type": "stream",
     "text": [
      "Garage\n",
      "No     999656\n",
      "Yes    999453\n",
      "Name: Price, dtype: int64\n"
     ]
    }
   ],
   "source": [
    "# the price of a hosue relative to the factor garage\n",
    "garage_max_price = origin_data.groupby('Garage')['Price'].max()\n",
    "print(garage_max_price)"
   ]
  },
  {
   "cell_type": "code",
   "execution_count": 24,
   "id": "62849b47-130f-4ca2-ac44-562f56f27934",
   "metadata": {},
   "outputs": [
    {
     "name": "stdout",
     "output_type": "stream",
     "text": [
      "Location\n",
      "Downtown    558\n",
      "Rural       474\n",
      "Suburban    483\n",
      "Urban       485\n",
      "Name: Id, dtype: int64\n"
     ]
    }
   ],
   "source": [
    "# Location count based on ID\n",
    "location_count = origin_data.groupby('Location')['Id'].count()\n",
    "print(location_count)"
   ]
  },
  {
   "cell_type": "code",
   "execution_count": 25,
   "id": "511dc2ba-e371-4046-9492-7f08fb92e0f0",
   "metadata": {},
   "outputs": [
    {
     "name": "stdout",
     "output_type": "stream",
     "text": [
      "Area\n",
      "501     1026822\n",
      "502      184962\n",
      "503      850118\n",
      "504      169574\n",
      "505      727823\n",
      "         ...   \n",
      "4994    1545300\n",
      "4995     286028\n",
      "4996    1153917\n",
      "4997     286887\n",
      "4999     139460\n",
      "Name: Price, Length: 1622, dtype: int64\n"
     ]
    }
   ],
   "source": [
    "# Total price by area\n",
    "total_price_by_area = origin_data.groupby('Area')['Price'].sum()\n",
    "print(total_price_by_area)"
   ]
  },
  {
   "cell_type": "code",
   "execution_count": 26,
   "id": "4c245315-4e67-4c23-bd05-1918f07a095b",
   "metadata": {},
   "outputs": [
    {
     "name": "stdout",
     "output_type": "stream",
     "text": [
      "Area\n",
      "501     2\n",
      "502     1\n",
      "503     1\n",
      "504     1\n",
      "505     1\n",
      "       ..\n",
      "4994    3\n",
      "4995    1\n",
      "4996    2\n",
      "4997    1\n",
      "4999    1\n",
      "Name: Id, Length: 1622, dtype: int64\n"
     ]
    }
   ],
   "source": [
    "# Data grouped by area\n",
    "total_houses_by_area = origin_data.groupby('Area')['Id'].count()\n",
    "print(total_houses_by_area)"
   ]
  },
  {
   "cell_type": "code",
   "execution_count": 27,
   "id": "9e7f2f47-8197-411d-bd44-5db9364b9142",
   "metadata": {},
   "outputs": [],
   "source": [
    "# multi-level variables\n",
    "# -----------------------"
   ]
  },
  {
   "cell_type": "code",
   "execution_count": 28,
   "id": "1f7773bc-60cb-4e1a-b3f4-ceca28e7eb7f",
   "metadata": {},
   "outputs": [
    {
     "name": "stdout",
     "output_type": "stream",
     "text": [
      "Percentage of houses in each location:\n",
      "Location\n",
      "Downtown    27.90\n",
      "Rural       23.70\n",
      "Suburban    24.15\n",
      "Urban       24.25\n",
      "Name: Id, dtype: float64\n"
     ]
    }
   ],
   "source": [
    "# creation of variable showing the percentage of total houses in each location\n",
    "total_houses = location_count.sum()\n",
    "location_percentage = (location_count / total_houses) * 100\n",
    "print(\"Percentage of houses in each location:\")\n",
    "print(location_percentage)"
   ]
  },
  {
   "cell_type": "code",
   "execution_count": 29,
   "id": "0db4fc5e-996e-4425-9b55-6fa7a01ad73e",
   "metadata": {
    "scrolled": true
   },
   "outputs": [
    {
     "name": "stdout",
     "output_type": "stream",
     "text": [
      "Area\n",
      "501     513411.0\n",
      "502     184962.0\n",
      "503     850118.0\n",
      "504     169574.0\n",
      "505     727823.0\n",
      "          ...   \n",
      "4994    515100.0\n",
      "4995    286028.0\n",
      "4996    576958.5\n",
      "4997    286887.0\n",
      "4999    139460.0\n",
      "Length: 1622, dtype: float64\n"
     ]
    }
   ],
   "source": [
    "#calculating the price per house by area (relative to the number of houses in an area\n",
    "price_per_house_by_area = total_price_by_area / total_houses_by_area\n",
    "print(price_per_house_by_area)"
   ]
  },
  {
   "cell_type": "code",
   "execution_count": null,
   "id": "b9297013-c9e5-49ae-a9fd-7cbc0160b88f",
   "metadata": {},
   "outputs": [],
   "source": [
    "#total_price_by_area = origin_data.groupby('Area')['Price'].sum()\n",
    "#print(total_price_by_area)"
   ]
  },
  {
   "cell_type": "code",
   "execution_count": 41,
   "id": "1573f1ca-e727-4728-9ae6-35838bf1a1df",
   "metadata": {},
   "outputs": [
    {
     "data": {
      "image/png": "[encoded data removed]",
      "text/plain": [
       "<Figure size 640x480 with 1 Axes>"
      ]
     },
     "metadata": {},
     "output_type": "display_data"
    }
   ],
   "source": [
    "\n",
    "import matplotlib.pyplot as plt\n",
    "total_price_by_area = origin_data.groupby('Condition')['Price'].sum()\n",
    "\n",
    "plt.bar(total_price_by_area.index,total_price_by_area.values, color='green')\n",
    "plt.title(\"Average price by condition\")\n",
    "plt.xlabel(\"Condition\")\n",
    "plt.ylabel(\"Average price\")\n",
    "plt.show()\n",
    "\n",
    "\n",
    "\n",
    "\n",
    "\n"
   ]
  },
  {
   "cell_type": "code",
   "execution_count": null,
   "id": "bdcd2d11-9be6-4839-bf73-9ecff58ba646",
   "metadata": {},
   "outputs": [],
   "source": [
    "cate"
   ]
  }
 ],
 "metadata": {
  "kernelspec": {
   "display_name": "Python 3 (ipykernel)",
   "language": "python",
   "name": "python3"
  },
  "language_info": {
   "codemirror_mode": {
    "name": "ipython",
    "version": 3
   },
   "file_extension": ".py",
   "mimetype": "text/x-python",
   "name": "python",
   "nbconvert_exporter": "python",
   "pygments_lexer": "ipython3",
   "version": "3.12.6"
  }
 },
 "nbformat": 4,
 "nbformat_minor": 5
}
