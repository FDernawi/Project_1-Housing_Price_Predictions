{
 "cells": [
  {
   "cell_type": "code",
   "execution_count": 360,
   "id": "73c940b9-9e93-43eb-bdb4-4df764b8b3b5",
   "metadata": {},
   "outputs": [
    {
     "name": "stderr",
     "output_type": "stream",
     "text": [
      "/var/folders/3l/qnm5hprx4z76qvd5ygknmsvr0000gn/T/ipykernel_2913/2031149325.py:6: DeprecationWarning: Please import `pearsonr` from the `scipy.stats` namespace; the `scipy.stats.stats` namespace is deprecated and will be removed in SciPy 2.0.0.\n",
      "  from scipy.stats.stats import pearsonr\n"
     ]
    }
   ],
   "source": [
    "#importing the dependencies\n",
    "import csv\n",
    "import pandas as pd\n",
    "from pathlib import Path\n",
    "import matplotlib.pyplot as plt\n",
    "from scipy.stats.stats import pearsonr"
   ]
  },
  {
   "cell_type": "code",
   "execution_count": 361,
   "id": "44b28439-71a7-4355-946c-b2fa695448dd",
   "metadata": {},
   "outputs": [],
   "source": [
    "# Load the dataset from the provided path\n",
    "file_path = \"house_price_prediction_dataset.csv\"\n",
    "origin_data = pd.read_csv(file_path)"
   ]
  },
  {
   "cell_type": "code",
   "execution_count": 362,
   "id": "6a8e393a-8e6f-435b-96a8-887830417d0b",
   "metadata": {},
   "outputs": [
    {
     "data": {
      "text/html": [
       "<div>\n",
       "<style scoped>\n",
       "    .dataframe tbody tr th:only-of-type {\n",
       "        vertical-align: middle;\n",
       "    }\n",
       "\n",
       "    .dataframe tbody tr th {\n",
       "        vertical-align: top;\n",
       "    }\n",
       "\n",
       "    .dataframe thead th {\n",
       "        text-align: right;\n",
       "    }\n",
       "</style>\n",
       "<table border=\"1\" class=\"dataframe\">\n",
       "  <thead>\n",
       "    <tr style=\"text-align: right;\">\n",
       "      <th></th>\n",
       "      <th>Id</th>\n",
       "      <th>Area</th>\n",
       "      <th>Bedrooms</th>\n",
       "      <th>Bathrooms</th>\n",
       "      <th>Floors</th>\n",
       "      <th>YearBuilt</th>\n",
       "      <th>Location</th>\n",
       "      <th>Condition</th>\n",
       "      <th>Garage</th>\n",
       "      <th>Price</th>\n",
       "    </tr>\n",
       "  </thead>\n",
       "  <tbody>\n",
       "    <tr>\n",
       "      <th>0</th>\n",
       "      <td>1</td>\n",
       "      <td>1360</td>\n",
       "      <td>5</td>\n",
       "      <td>4</td>\n",
       "      <td>3</td>\n",
       "      <td>1970</td>\n",
       "      <td>Downtown</td>\n",
       "      <td>Excellent</td>\n",
       "      <td>No</td>\n",
       "      <td>149919</td>\n",
       "    </tr>\n",
       "    <tr>\n",
       "      <th>1</th>\n",
       "      <td>2</td>\n",
       "      <td>4272</td>\n",
       "      <td>5</td>\n",
       "      <td>4</td>\n",
       "      <td>3</td>\n",
       "      <td>1958</td>\n",
       "      <td>Downtown</td>\n",
       "      <td>Excellent</td>\n",
       "      <td>No</td>\n",
       "      <td>424998</td>\n",
       "    </tr>\n",
       "    <tr>\n",
       "      <th>2</th>\n",
       "      <td>3</td>\n",
       "      <td>3592</td>\n",
       "      <td>2</td>\n",
       "      <td>2</td>\n",
       "      <td>3</td>\n",
       "      <td>1938</td>\n",
       "      <td>Downtown</td>\n",
       "      <td>Good</td>\n",
       "      <td>No</td>\n",
       "      <td>266746</td>\n",
       "    </tr>\n",
       "    <tr>\n",
       "      <th>3</th>\n",
       "      <td>4</td>\n",
       "      <td>966</td>\n",
       "      <td>4</td>\n",
       "      <td>2</td>\n",
       "      <td>2</td>\n",
       "      <td>1902</td>\n",
       "      <td>Suburban</td>\n",
       "      <td>Fair</td>\n",
       "      <td>Yes</td>\n",
       "      <td>244020</td>\n",
       "    </tr>\n",
       "    <tr>\n",
       "      <th>4</th>\n",
       "      <td>5</td>\n",
       "      <td>4926</td>\n",
       "      <td>1</td>\n",
       "      <td>4</td>\n",
       "      <td>2</td>\n",
       "      <td>1975</td>\n",
       "      <td>Downtown</td>\n",
       "      <td>Fair</td>\n",
       "      <td>Yes</td>\n",
       "      <td>636056</td>\n",
       "    </tr>\n",
       "  </tbody>\n",
       "</table>\n",
       "</div>"
      ],
      "text/plain": [
       "   Id  Area  Bedrooms  Bathrooms  Floors  YearBuilt  Location  Condition  \\\n",
       "0   1  1360         5          4       3       1970  Downtown  Excellent   \n",
       "1   2  4272         5          4       3       1958  Downtown  Excellent   \n",
       "2   3  3592         2          2       3       1938  Downtown       Good   \n",
       "3   4   966         4          2       2       1902  Suburban       Fair   \n",
       "4   5  4926         1          4       2       1975  Downtown       Fair   \n",
       "\n",
       "  Garage   Price  \n",
       "0     No  149919  \n",
       "1     No  424998  \n",
       "2     No  266746  \n",
       "3    Yes  244020  \n",
       "4    Yes  636056  "
      ]
     },
     "execution_count": 362,
     "metadata": {},
     "output_type": "execute_result"
    }
   ],
   "source": [
    "# Displaying the unfiltered first 5 rows of data\n",
    "origin_data.head()"
   ]
  },
  {
   "cell_type": "code",
   "execution_count": 363,
   "id": "ec760798-cbae-41b5-a605-c4fc4073f880",
   "metadata": {},
   "outputs": [
    {
     "data": {
      "text/plain": [
       "(2000, 10)"
      ]
     },
     "execution_count": 363,
     "metadata": {},
     "output_type": "execute_result"
    }
   ],
   "source": [
    "# Describing the shape of the data by indicating the number of rows and columns (rows , columns)\n",
    "origin_data.shape"
   ]
  },
  {
   "cell_type": "code",
   "execution_count": 364,
   "id": "be486ec1-e1e9-4cf7-b3e4-eed38fc30cbe",
   "metadata": {},
   "outputs": [
    {
     "data": {
      "text/html": [
       "<div>\n",
       "<style scoped>\n",
       "    .dataframe tbody tr th:only-of-type {\n",
       "        vertical-align: middle;\n",
       "    }\n",
       "\n",
       "    .dataframe tbody tr th {\n",
       "        vertical-align: top;\n",
       "    }\n",
       "\n",
       "    .dataframe thead th {\n",
       "        text-align: right;\n",
       "    }\n",
       "</style>\n",
       "<table border=\"1\" class=\"dataframe\">\n",
       "  <thead>\n",
       "    <tr style=\"text-align: right;\">\n",
       "      <th></th>\n",
       "      <th>Id</th>\n",
       "      <th>Area</th>\n",
       "      <th>Bedrooms</th>\n",
       "      <th>Bathrooms</th>\n",
       "      <th>Floors</th>\n",
       "      <th>YearBuilt</th>\n",
       "      <th>Location</th>\n",
       "      <th>Condition</th>\n",
       "      <th>Garage</th>\n",
       "      <th>Price</th>\n",
       "    </tr>\n",
       "  </thead>\n",
       "  <tbody>\n",
       "    <tr>\n",
       "      <th>0</th>\n",
       "      <td>1</td>\n",
       "      <td>1360</td>\n",
       "      <td>5</td>\n",
       "      <td>4</td>\n",
       "      <td>3</td>\n",
       "      <td>1970</td>\n",
       "      <td>Downtown</td>\n",
       "      <td>Excellent</td>\n",
       "      <td>No</td>\n",
       "      <td>149919</td>\n",
       "    </tr>\n",
       "    <tr>\n",
       "      <th>1</th>\n",
       "      <td>2</td>\n",
       "      <td>4272</td>\n",
       "      <td>5</td>\n",
       "      <td>4</td>\n",
       "      <td>3</td>\n",
       "      <td>1958</td>\n",
       "      <td>Downtown</td>\n",
       "      <td>Excellent</td>\n",
       "      <td>No</td>\n",
       "      <td>424998</td>\n",
       "    </tr>\n",
       "    <tr>\n",
       "      <th>2</th>\n",
       "      <td>3</td>\n",
       "      <td>3592</td>\n",
       "      <td>2</td>\n",
       "      <td>2</td>\n",
       "      <td>3</td>\n",
       "      <td>1938</td>\n",
       "      <td>Downtown</td>\n",
       "      <td>Good</td>\n",
       "      <td>No</td>\n",
       "      <td>266746</td>\n",
       "    </tr>\n",
       "    <tr>\n",
       "      <th>3</th>\n",
       "      <td>4</td>\n",
       "      <td>966</td>\n",
       "      <td>4</td>\n",
       "      <td>2</td>\n",
       "      <td>2</td>\n",
       "      <td>1902</td>\n",
       "      <td>Suburban</td>\n",
       "      <td>Fair</td>\n",
       "      <td>Yes</td>\n",
       "      <td>244020</td>\n",
       "    </tr>\n",
       "    <tr>\n",
       "      <th>4</th>\n",
       "      <td>5</td>\n",
       "      <td>4926</td>\n",
       "      <td>1</td>\n",
       "      <td>4</td>\n",
       "      <td>2</td>\n",
       "      <td>1975</td>\n",
       "      <td>Downtown</td>\n",
       "      <td>Fair</td>\n",
       "      <td>Yes</td>\n",
       "      <td>636056</td>\n",
       "    </tr>\n",
       "    <tr>\n",
       "      <th>5</th>\n",
       "      <td>6</td>\n",
       "      <td>3944</td>\n",
       "      <td>1</td>\n",
       "      <td>2</td>\n",
       "      <td>1</td>\n",
       "      <td>1906</td>\n",
       "      <td>Urban</td>\n",
       "      <td>Poor</td>\n",
       "      <td>No</td>\n",
       "      <td>93262</td>\n",
       "    </tr>\n",
       "    <tr>\n",
       "      <th>6</th>\n",
       "      <td>7</td>\n",
       "      <td>3671</td>\n",
       "      <td>1</td>\n",
       "      <td>1</td>\n",
       "      <td>2</td>\n",
       "      <td>1948</td>\n",
       "      <td>Rural</td>\n",
       "      <td>Poor</td>\n",
       "      <td>Yes</td>\n",
       "      <td>448722</td>\n",
       "    </tr>\n",
       "    <tr>\n",
       "      <th>7</th>\n",
       "      <td>8</td>\n",
       "      <td>3419</td>\n",
       "      <td>2</td>\n",
       "      <td>4</td>\n",
       "      <td>1</td>\n",
       "      <td>1925</td>\n",
       "      <td>Suburban</td>\n",
       "      <td>Good</td>\n",
       "      <td>Yes</td>\n",
       "      <td>594893</td>\n",
       "    </tr>\n",
       "    <tr>\n",
       "      <th>8</th>\n",
       "      <td>9</td>\n",
       "      <td>630</td>\n",
       "      <td>2</td>\n",
       "      <td>2</td>\n",
       "      <td>1</td>\n",
       "      <td>1932</td>\n",
       "      <td>Rural</td>\n",
       "      <td>Poor</td>\n",
       "      <td>Yes</td>\n",
       "      <td>652878</td>\n",
       "    </tr>\n",
       "    <tr>\n",
       "      <th>9</th>\n",
       "      <td>10</td>\n",
       "      <td>2185</td>\n",
       "      <td>3</td>\n",
       "      <td>3</td>\n",
       "      <td>1</td>\n",
       "      <td>2000</td>\n",
       "      <td>Downtown</td>\n",
       "      <td>Poor</td>\n",
       "      <td>No</td>\n",
       "      <td>340375</td>\n",
       "    </tr>\n",
       "    <tr>\n",
       "      <th>10</th>\n",
       "      <td>11</td>\n",
       "      <td>1269</td>\n",
       "      <td>1</td>\n",
       "      <td>4</td>\n",
       "      <td>2</td>\n",
       "      <td>1947</td>\n",
       "      <td>Suburban</td>\n",
       "      <td>Poor</td>\n",
       "      <td>Yes</td>\n",
       "      <td>653685</td>\n",
       "    </tr>\n",
       "    <tr>\n",
       "      <th>11</th>\n",
       "      <td>12</td>\n",
       "      <td>2891</td>\n",
       "      <td>4</td>\n",
       "      <td>4</td>\n",
       "      <td>3</td>\n",
       "      <td>1978</td>\n",
       "      <td>Urban</td>\n",
       "      <td>Excellent</td>\n",
       "      <td>Yes</td>\n",
       "      <td>127123</td>\n",
       "    </tr>\n",
       "    <tr>\n",
       "      <th>12</th>\n",
       "      <td>13</td>\n",
       "      <td>2933</td>\n",
       "      <td>4</td>\n",
       "      <td>3</td>\n",
       "      <td>2</td>\n",
       "      <td>1901</td>\n",
       "      <td>Downtown</td>\n",
       "      <td>Poor</td>\n",
       "      <td>No</td>\n",
       "      <td>849947</td>\n",
       "    </tr>\n",
       "    <tr>\n",
       "      <th>13</th>\n",
       "      <td>14</td>\n",
       "      <td>1684</td>\n",
       "      <td>1</td>\n",
       "      <td>1</td>\n",
       "      <td>1</td>\n",
       "      <td>2004</td>\n",
       "      <td>Rural</td>\n",
       "      <td>Good</td>\n",
       "      <td>No</td>\n",
       "      <td>399355</td>\n",
       "    </tr>\n",
       "    <tr>\n",
       "      <th>14</th>\n",
       "      <td>15</td>\n",
       "      <td>3885</td>\n",
       "      <td>1</td>\n",
       "      <td>3</td>\n",
       "      <td>1</td>\n",
       "      <td>1970</td>\n",
       "      <td>Urban</td>\n",
       "      <td>Fair</td>\n",
       "      <td>Yes</td>\n",
       "      <td>481838</td>\n",
       "    </tr>\n",
       "    <tr>\n",
       "      <th>15</th>\n",
       "      <td>16</td>\n",
       "      <td>4617</td>\n",
       "      <td>1</td>\n",
       "      <td>4</td>\n",
       "      <td>2</td>\n",
       "      <td>1931</td>\n",
       "      <td>Downtown</td>\n",
       "      <td>Poor</td>\n",
       "      <td>No</td>\n",
       "      <td>853032</td>\n",
       "    </tr>\n",
       "    <tr>\n",
       "      <th>16</th>\n",
       "      <td>17</td>\n",
       "      <td>3404</td>\n",
       "      <td>2</td>\n",
       "      <td>1</td>\n",
       "      <td>1</td>\n",
       "      <td>1903</td>\n",
       "      <td>Urban</td>\n",
       "      <td>Fair</td>\n",
       "      <td>Yes</td>\n",
       "      <td>208964</td>\n",
       "    </tr>\n",
       "    <tr>\n",
       "      <th>17</th>\n",
       "      <td>18</td>\n",
       "      <td>974</td>\n",
       "      <td>2</td>\n",
       "      <td>2</td>\n",
       "      <td>1</td>\n",
       "      <td>1919</td>\n",
       "      <td>Downtown</td>\n",
       "      <td>Poor</td>\n",
       "      <td>Yes</td>\n",
       "      <td>905742</td>\n",
       "    </tr>\n",
       "    <tr>\n",
       "      <th>18</th>\n",
       "      <td>19</td>\n",
       "      <td>1582</td>\n",
       "      <td>2</td>\n",
       "      <td>2</td>\n",
       "      <td>2</td>\n",
       "      <td>2013</td>\n",
       "      <td>Suburban</td>\n",
       "      <td>Good</td>\n",
       "      <td>No</td>\n",
       "      <td>989305</td>\n",
       "    </tr>\n",
       "    <tr>\n",
       "      <th>19</th>\n",
       "      <td>20</td>\n",
       "      <td>3058</td>\n",
       "      <td>5</td>\n",
       "      <td>2</td>\n",
       "      <td>2</td>\n",
       "      <td>2016</td>\n",
       "      <td>Downtown</td>\n",
       "      <td>Excellent</td>\n",
       "      <td>No</td>\n",
       "      <td>218767</td>\n",
       "    </tr>\n",
       "  </tbody>\n",
       "</table>\n",
       "</div>"
      ],
      "text/plain": [
       "    Id  Area  Bedrooms  Bathrooms  Floors  YearBuilt  Location  Condition  \\\n",
       "0    1  1360         5          4       3       1970  Downtown  Excellent   \n",
       "1    2  4272         5          4       3       1958  Downtown  Excellent   \n",
       "2    3  3592         2          2       3       1938  Downtown       Good   \n",
       "3    4   966         4          2       2       1902  Suburban       Fair   \n",
       "4    5  4926         1          4       2       1975  Downtown       Fair   \n",
       "5    6  3944         1          2       1       1906     Urban       Poor   \n",
       "6    7  3671         1          1       2       1948     Rural       Poor   \n",
       "7    8  3419         2          4       1       1925  Suburban       Good   \n",
       "8    9   630         2          2       1       1932     Rural       Poor   \n",
       "9   10  2185         3          3       1       2000  Downtown       Poor   \n",
       "10  11  1269         1          4       2       1947  Suburban       Poor   \n",
       "11  12  2891         4          4       3       1978     Urban  Excellent   \n",
       "12  13  2933         4          3       2       1901  Downtown       Poor   \n",
       "13  14  1684         1          1       1       2004     Rural       Good   \n",
       "14  15  3885         1          3       1       1970     Urban       Fair   \n",
       "15  16  4617         1          4       2       1931  Downtown       Poor   \n",
       "16  17  3404         2          1       1       1903     Urban       Fair   \n",
       "17  18   974         2          2       1       1919  Downtown       Poor   \n",
       "18  19  1582         2          2       2       2013  Suburban       Good   \n",
       "19  20  3058         5          2       2       2016  Downtown  Excellent   \n",
       "\n",
       "   Garage   Price  \n",
       "0      No  149919  \n",
       "1      No  424998  \n",
       "2      No  266746  \n",
       "3     Yes  244020  \n",
       "4     Yes  636056  \n",
       "5      No   93262  \n",
       "6     Yes  448722  \n",
       "7     Yes  594893  \n",
       "8     Yes  652878  \n",
       "9      No  340375  \n",
       "10    Yes  653685  \n",
       "11    Yes  127123  \n",
       "12     No  849947  \n",
       "13     No  399355  \n",
       "14    Yes  481838  \n",
       "15     No  853032  \n",
       "16    Yes  208964  \n",
       "17    Yes  905742  \n",
       "18     No  989305  \n",
       "19     No  218767  "
      ]
     },
     "execution_count": 364,
     "metadata": {},
     "output_type": "execute_result"
    }
   ],
   "source": [
    "# Fetching first 20 rows\n",
    "origin_data.head(20)"
   ]
  },
  {
   "cell_type": "code",
   "execution_count": 365,
   "id": "34df6428-10cc-4e30-b146-176b5102c39e",
   "metadata": {},
   "outputs": [
    {
     "data": {
      "text/plain": [
       "0"
      ]
     },
     "execution_count": 365,
     "metadata": {},
     "output_type": "execute_result"
    }
   ],
   "source": [
    "# Checking for any duplicate values\n",
    "origin_data.duplicated().sum()"
   ]
  },
  {
   "cell_type": "code",
   "execution_count": 366,
   "id": "5ecf17c0-977e-4c3d-bc9a-6a17581ec1f4",
   "metadata": {},
   "outputs": [
    {
     "data": {
      "text/plain": [
       "Id            int64\n",
       "Area          int64\n",
       "Bedrooms      int64\n",
       "Bathrooms     int64\n",
       "Floors        int64\n",
       "YearBuilt     int64\n",
       "Location     object\n",
       "Condition    object\n",
       "Garage       object\n",
       "Price         int64\n",
       "dtype: object"
      ]
     },
     "execution_count": 366,
     "metadata": {},
     "output_type": "execute_result"
    }
   ],
   "source": [
    "# Finding the datatype\n",
    "origin_data.dtypes"
   ]
  },
  {
   "cell_type": "code",
   "execution_count": 367,
   "id": "0c19e657-26ed-41c3-befe-ecafb0e17649",
   "metadata": {},
   "outputs": [
    {
     "name": "stdout",
     "output_type": "stream",
     "text": [
      "<class 'pandas.core.frame.DataFrame'>\n",
      "RangeIndex: 2000 entries, 0 to 1999\n",
      "Data columns (total 10 columns):\n",
      " #   Column     Non-Null Count  Dtype \n",
      "---  ------     --------------  ----- \n",
      " 0   Id         2000 non-null   int64 \n",
      " 1   Area       2000 non-null   int64 \n",
      " 2   Bedrooms   2000 non-null   int64 \n",
      " 3   Bathrooms  2000 non-null   int64 \n",
      " 4   Floors     2000 non-null   int64 \n",
      " 5   YearBuilt  2000 non-null   int64 \n",
      " 6   Location   2000 non-null   object\n",
      " 7   Condition  2000 non-null   object\n",
      " 8   Garage     2000 non-null   object\n",
      " 9   Price      2000 non-null   int64 \n",
      "dtypes: int64(7), object(3)\n",
      "memory usage: 156.4+ KB\n"
     ]
    }
   ],
   "source": [
    "origin_data.info()"
   ]
  },
  {
   "cell_type": "code",
   "execution_count": 368,
   "id": "22ec4fac-75e7-4103-a369-7d858d57c352",
   "metadata": {},
   "outputs": [
    {
     "data": {
      "text/plain": [
       "Id           0\n",
       "Area         0\n",
       "Bedrooms     0\n",
       "Bathrooms    0\n",
       "Floors       0\n",
       "YearBuilt    0\n",
       "Location     0\n",
       "Condition    0\n",
       "Garage       0\n",
       "Price        0\n",
       "dtype: int64"
      ]
     },
     "execution_count": 368,
     "metadata": {},
     "output_type": "execute_result"
    }
   ],
   "source": [
    "# Checking to see if we have any null values within the dataset\n",
    "origin_data.isnull().sum()"
   ]
  },
  {
   "cell_type": "code",
   "execution_count": 369,
   "id": "1969f501-7068-4123-b04e-f96db9d5ed93",
   "metadata": {},
   "outputs": [
    {
     "data": {
      "text/html": [
       "<div>\n",
       "<style scoped>\n",
       "    .dataframe tbody tr th:only-of-type {\n",
       "        vertical-align: middle;\n",
       "    }\n",
       "\n",
       "    .dataframe tbody tr th {\n",
       "        vertical-align: top;\n",
       "    }\n",
       "\n",
       "    .dataframe thead th {\n",
       "        text-align: right;\n",
       "    }\n",
       "</style>\n",
       "<table border=\"1\" class=\"dataframe\">\n",
       "  <thead>\n",
       "    <tr style=\"text-align: right;\">\n",
       "      <th></th>\n",
       "      <th>Id</th>\n",
       "      <th>Area</th>\n",
       "      <th>Bedrooms</th>\n",
       "      <th>Bathrooms</th>\n",
       "      <th>Floors</th>\n",
       "      <th>YearBuilt</th>\n",
       "      <th>Location</th>\n",
       "      <th>Condition</th>\n",
       "      <th>Garage</th>\n",
       "      <th>Price</th>\n",
       "    </tr>\n",
       "  </thead>\n",
       "  <tbody>\n",
       "    <tr>\n",
       "      <th>0</th>\n",
       "      <td>1</td>\n",
       "      <td>1360</td>\n",
       "      <td>5</td>\n",
       "      <td>4</td>\n",
       "      <td>3</td>\n",
       "      <td>1970</td>\n",
       "      <td>Downtown</td>\n",
       "      <td>Excellent</td>\n",
       "      <td>No</td>\n",
       "      <td>149919</td>\n",
       "    </tr>\n",
       "    <tr>\n",
       "      <th>1</th>\n",
       "      <td>2</td>\n",
       "      <td>4272</td>\n",
       "      <td>5</td>\n",
       "      <td>4</td>\n",
       "      <td>3</td>\n",
       "      <td>1958</td>\n",
       "      <td>Downtown</td>\n",
       "      <td>Excellent</td>\n",
       "      <td>No</td>\n",
       "      <td>424998</td>\n",
       "    </tr>\n",
       "    <tr>\n",
       "      <th>2</th>\n",
       "      <td>3</td>\n",
       "      <td>3592</td>\n",
       "      <td>2</td>\n",
       "      <td>2</td>\n",
       "      <td>3</td>\n",
       "      <td>1938</td>\n",
       "      <td>Downtown</td>\n",
       "      <td>Good</td>\n",
       "      <td>No</td>\n",
       "      <td>266746</td>\n",
       "    </tr>\n",
       "    <tr>\n",
       "      <th>3</th>\n",
       "      <td>4</td>\n",
       "      <td>966</td>\n",
       "      <td>4</td>\n",
       "      <td>2</td>\n",
       "      <td>2</td>\n",
       "      <td>1902</td>\n",
       "      <td>Suburban</td>\n",
       "      <td>Fair</td>\n",
       "      <td>Yes</td>\n",
       "      <td>244020</td>\n",
       "    </tr>\n",
       "    <tr>\n",
       "      <th>4</th>\n",
       "      <td>5</td>\n",
       "      <td>4926</td>\n",
       "      <td>1</td>\n",
       "      <td>4</td>\n",
       "      <td>2</td>\n",
       "      <td>1975</td>\n",
       "      <td>Downtown</td>\n",
       "      <td>Fair</td>\n",
       "      <td>Yes</td>\n",
       "      <td>636056</td>\n",
       "    </tr>\n",
       "  </tbody>\n",
       "</table>\n",
       "</div>"
      ],
      "text/plain": [
       "   Id  Area  Bedrooms  Bathrooms  Floors  YearBuilt  Location  Condition  \\\n",
       "0   1  1360         5          4       3       1970  Downtown  Excellent   \n",
       "1   2  4272         5          4       3       1958  Downtown  Excellent   \n",
       "2   3  3592         2          2       3       1938  Downtown       Good   \n",
       "3   4   966         4          2       2       1902  Suburban       Fair   \n",
       "4   5  4926         1          4       2       1975  Downtown       Fair   \n",
       "\n",
       "  Garage   Price  \n",
       "0     No  149919  \n",
       "1     No  424998  \n",
       "2     No  266746  \n",
       "3    Yes  244020  \n",
       "4    Yes  636056  "
      ]
     },
     "execution_count": 369,
     "metadata": {},
     "output_type": "execute_result"
    }
   ],
   "source": [
    "origin_data.head()"
   ]
  },
  {
   "cell_type": "code",
   "execution_count": 370,
   "id": "3fd0977d-8dd9-4520-a909-e5a27d02386e",
   "metadata": {},
   "outputs": [],
   "source": [
    "# Creation of single level variables\n",
    "# ----------------------"
   ]
  },
  {
   "cell_type": "code",
   "execution_count": 371,
   "id": "5e3e99d3-623c-41f4-afe2-283d54afceb8",
   "metadata": {},
   "outputs": [
    {
     "name": "stdout",
     "output_type": "stream",
     "text": [
      "Location\n",
      "Downtown    536059.66\n",
      "Rural       538613.94\n",
      "Suburban    557416.33\n",
      "Urban       518963.55\n",
      "Name: Price, dtype: float64\n"
     ]
    }
   ],
   "source": [
    "# finding the average price depending on the location (analysis),rounding to two decimal\n",
    "location_price = origin_data.groupby(\"Location\")[\"Price\"].mean().round(2)\n",
    "print(location_price)"
   ]
  },
  {
   "cell_type": "code",
   "execution_count": 372,
   "id": "b5a48391-1c76-4f8a-90d7-fb6c4ac9f298",
   "metadata": {},
   "outputs": [
    {
     "name": "stdout",
     "output_type": "stream",
     "text": [
      "Condition\n",
      "Excellent    530812.01\n",
      "Fair         560594.14\n",
      "Good         529002.35\n",
      "Poor         528933.22\n",
      "Name: Price, dtype: float64\n"
     ]
    }
   ],
   "source": [
    " # findinf the average priceof the house by condition(excellent,good ,poor)\n",
    "condition_price = origin_data.groupby(\"Condition\")[\"Price\"].mean().round(2)\n",
    "print(condition_price)"
   ]
  },
  {
   "cell_type": "code",
   "execution_count": 373,
   "id": "cfbb7753-4c01-4a4d-b05b-cb2542ef5e03",
   "metadata": {},
   "outputs": [
    {
     "name": "stdout",
     "output_type": "stream",
     "text": [
      "Bedrooms\n",
      "1    530561.6\n",
      "2    545546.5\n",
      "3    546977.9\n",
      "4    533696.9\n",
      "5    532500.1\n",
      "Name: Price, dtype: float64\n"
     ]
    }
   ],
   "source": [
    "# analysing the price of house based on number of bedrooms\n",
    "bedroom_price = origin_data.groupby(\"Bedrooms\")[\"Price\"].mean().round(1)\n",
    "print(bedroom_price)"
   ]
  },
  {
   "cell_type": "code",
   "execution_count": 374,
   "id": "50237026-7423-4fcd-8843-342c0ca9d613",
   "metadata": {},
   "outputs": [
    {
     "name": "stdout",
     "output_type": "stream",
     "text": [
      "YearBuilt\n",
      "1900    493795.5\n",
      "1901    610085.0\n",
      "1902    559565.5\n",
      "1903    298089.0\n",
      "1904    716217.0\n",
      "          ...   \n",
      "2019    609099.5\n",
      "2020    532055.0\n",
      "2021    440890.5\n",
      "2022    499862.5\n",
      "2023    687835.5\n",
      "Name: Price, Length: 124, dtype: float64\n"
     ]
    }
   ],
   "source": [
    "#creation of variable to show the median price based on the year built\n",
    "yearbuilt_median_price = origin_data.groupby('YearBuilt')['Price'].median()\n",
    "print(yearbuilt_median_price)"
   ]
  },
  {
   "cell_type": "code",
   "execution_count": 375,
   "id": "ac6b46b6-d7f6-47dd-a4cc-90e8adf2bf1f",
   "metadata": {},
   "outputs": [
    {
     "name": "stdout",
     "output_type": "stream",
     "text": [
      "0        54\n",
      "1        66\n",
      "2        86\n",
      "3       122\n",
      "4        49\n",
      "       ... \n",
      "1995    101\n",
      "1996      5\n",
      "1997    121\n",
      "1998     88\n",
      "1999    121\n",
      "Name: YearBuilt, Length: 2000, dtype: int64\n"
     ]
    }
   ],
   "source": [
    "# create a new column for the age of the house:(addinf a new columns name age_of_house)\n",
    "house_age = origin_data[\"Age_of_House\"]= 2024-origin_data[\"YearBuilt\"]\n",
    "print(house_age)"
   ]
  },
  {
   "cell_type": "code",
   "execution_count": 376,
   "id": "e281fb14-0bd5-42f6-8d30-2b6e850d4213",
   "metadata": {},
   "outputs": [
    {
     "name": "stdout",
     "output_type": "stream",
     "text": [
      "Floors\n",
      "1    2748.756430\n",
      "2    2804.050651\n",
      "3    2805.388889\n",
      "Name: Area, dtype: float64\n"
     ]
    }
   ],
   "source": [
    "# New Variable created testing the floor area average\n",
    "floors_avg_area = origin_data.groupby('Floors')['Area'].mean()\n",
    "print(floors_avg_area)"
   ]
  },
  {
   "cell_type": "code",
   "execution_count": 377,
   "id": "cfc2018e-d608-47e8-bcc3-91b7a481981e",
   "metadata": {},
   "outputs": [
    {
     "name": "stdout",
     "output_type": "stream",
     "text": [
      "Bathrooms\n",
      "1    51082\n",
      "2    50005\n",
      "3    53657\n",
      "4    51845\n",
      "Name: Price, dtype: int64\n"
     ]
    }
   ],
   "source": [
    "# New variable to determine price by number of bathrooms present in house\n",
    "bathrooms_min_price = origin_data.groupby('Bathrooms')['Price'].min()\n",
    "print(bathrooms_min_price)"
   ]
  },
  {
   "cell_type": "code",
   "execution_count": 378,
   "id": "4ace7fdc-5b0f-4575-a9d9-d6b3f4630d7b",
   "metadata": {},
   "outputs": [
    {
     "name": "stdout",
     "output_type": "stream",
     "text": [
      "Location  Condition\n",
      "Downtown  Excellent    524477.967320\n",
      "          Fair         584624.766423\n",
      "          Good         510704.191176\n",
      "          Poor         525203.022727\n",
      "Rural     Excellent    547966.141667\n",
      "          Fair         579754.727273\n",
      "          Good         500956.690000\n",
      "          Poor         515768.680328\n",
      "Suburban  Excellent    553103.377049\n",
      "          Fair         562783.795276\n",
      "          Good         570986.252252\n",
      "          Poor         543906.186992\n",
      "Urban     Excellent    497976.370690\n",
      "          Fair         511798.304000\n",
      "          Good         534554.131579\n",
      "          Poor         530908.484615\n",
      "Name: Price, dtype: float64\n"
     ]
    }
   ],
   "source": [
    "# Location conditions relative to the average price\n",
    "location_condition_avg_price = origin_data.groupby(['Location', 'Condition'])['Price'].mean()\n",
    "print(location_condition_avg_price)"
   ]
  },
  {
   "cell_type": "code",
   "execution_count": 379,
   "id": "bf11bb63-d530-4498-bde0-89adfec09917",
   "metadata": {},
   "outputs": [
    {
     "name": "stdout",
     "output_type": "stream",
     "text": [
      "Garage\n",
      "No     999656\n",
      "Yes    999453\n",
      "Name: Price, dtype: int64\n"
     ]
    }
   ],
   "source": [
    "# the price of a hosue relative to the factor garage\n",
    "garage_max_price = origin_data.groupby('Garage')['Price'].max()\n",
    "print(garage_max_price)"
   ]
  },
  {
   "cell_type": "code",
   "execution_count": 380,
   "id": "62849b47-130f-4ca2-ac44-562f56f27934",
   "metadata": {},
   "outputs": [
    {
     "name": "stdout",
     "output_type": "stream",
     "text": [
      "Location\n",
      "Downtown    558\n",
      "Rural       474\n",
      "Suburban    483\n",
      "Urban       485\n",
      "Name: Id, dtype: int64\n"
     ]
    }
   ],
   "source": [
    "# Location count based on ID\n",
    "location_count = origin_data.groupby('Location')['Id'].count()\n",
    "print(location_count)"
   ]
  },
  {
   "cell_type": "code",
   "execution_count": 381,
   "id": "511dc2ba-e371-4046-9492-7f08fb92e0f0",
   "metadata": {},
   "outputs": [
    {
     "name": "stdout",
     "output_type": "stream",
     "text": [
      "Area\n",
      "501     1026822\n",
      "502      184962\n",
      "503      850118\n",
      "504      169574\n",
      "505      727823\n",
      "         ...   \n",
      "4994    1545300\n",
      "4995     286028\n",
      "4996    1153917\n",
      "4997     286887\n",
      "4999     139460\n",
      "Name: Price, Length: 1622, dtype: int64\n"
     ]
    }
   ],
   "source": [
    "# Total price by area\n",
    "total_price_by_area = origin_data.groupby('Area')['Price'].sum()\n",
    "print(total_price_by_area)"
   ]
  },
  {
   "cell_type": "code",
   "execution_count": 382,
   "id": "4c245315-4e67-4c23-bd05-1918f07a095b",
   "metadata": {},
   "outputs": [
    {
     "name": "stdout",
     "output_type": "stream",
     "text": [
      "Area\n",
      "501     2\n",
      "502     1\n",
      "503     1\n",
      "504     1\n",
      "505     1\n",
      "       ..\n",
      "4994    3\n",
      "4995    1\n",
      "4996    2\n",
      "4997    1\n",
      "4999    1\n",
      "Name: Id, Length: 1622, dtype: int64\n"
     ]
    }
   ],
   "source": [
    "# Data grouped by area\n",
    "total_houses_by_area = origin_data.groupby('Area')['Id'].count()\n",
    "print(total_houses_by_area)"
   ]
  },
  {
   "cell_type": "code",
   "execution_count": 383,
   "id": "9e7f2f47-8197-411d-bd44-5db9364b9142",
   "metadata": {},
   "outputs": [],
   "source": [
    "# multi-level variables\n",
    "# -----------------------"
   ]
  },
  {
   "cell_type": "code",
   "execution_count": 384,
   "id": "1f7773bc-60cb-4e1a-b3f4-ceca28e7eb7f",
   "metadata": {},
   "outputs": [
    {
     "name": "stdout",
     "output_type": "stream",
     "text": [
      "Percentage of houses in each location:\n",
      "Location\n",
      "Downtown    27.90\n",
      "Rural       23.70\n",
      "Suburban    24.15\n",
      "Urban       24.25\n",
      "Name: Id, dtype: float64\n"
     ]
    }
   ],
   "source": [
    "# creation of variable showing the percentage of total houses in each location\n",
    "total_houses = location_count.sum()\n",
    "location_percentage = (location_count / total_houses) * 100\n",
    "print(\"Percentage of houses in each location:\")\n",
    "print(location_percentage)"
   ]
  },
  {
   "cell_type": "code",
   "execution_count": 385,
   "id": "0db4fc5e-996e-4425-9b55-6fa7a01ad73e",
   "metadata": {},
   "outputs": [
    {
     "name": "stdout",
     "output_type": "stream",
     "text": [
      "Area\n",
      "501     513411.0\n",
      "502     184962.0\n",
      "503     850118.0\n",
      "504     169574.0\n",
      "505     727823.0\n",
      "          ...   \n",
      "4994    515100.0\n",
      "4995    286028.0\n",
      "4996    576958.5\n",
      "4997    286887.0\n",
      "4999    139460.0\n",
      "Length: 1622, dtype: float64\n"
     ]
    }
   ],
   "source": [
    "#calculating the price per house by area (relative to the number of houses in an area\n",
    "price_per_house_by_area = total_price_by_area / total_houses_by_area\n",
    "print(price_per_house_by_area)"
   ]
  },
  {
   "cell_type": "markdown",
   "id": "b1f9a2e8-e511-4866-9c60-35ae772306a7",
   "metadata": {},
   "source": [
    "# Dele Akanle\n",
    "---"
   ]
  },
  {
   "cell_type": "markdown",
   "id": "9bb17a58-83f5-4e87-ab4e-d16c448653a0",
   "metadata": {},
   "source": [
    "# Question: \n",
    "### Are there patterns of appreciation or depreciation in house prices for homes built in different decades (e.g., pre-1950 vs. post-1950)?"
   ]
  },
  {
   "cell_type": "code",
   "execution_count": 388,
   "id": "14fe524f-5235-437b-8714-7310ef0edc08",
   "metadata": {},
   "outputs": [
    {
     "name": "stdout",
     "output_type": "stream",
     "text": [
      "      Year built   Price\n",
      "Id                      \n",
      "1           1970  149919\n",
      "2           1958  424998\n",
      "3           1938  266746\n",
      "4           1902  244020\n",
      "5           1975  636056\n",
      "...          ...     ...\n",
      "1996        1923  295620\n",
      "1997        2019  580929\n",
      "1998        1903  476925\n",
      "1999        1936  161119\n",
      "2000        1903  482525\n",
      "\n",
      "[2000 rows x 2 columns]\n"
     ]
    }
   ],
   "source": [
    "# create a dataframe that refelcts pre 1950 vs post 1950\n",
    "price = origin_data.set_index(\"Id\")[\"Price\"]\n",
    "year_built = origin_data.set_index(\"Id\")[\"YearBuilt\"]\n",
    "\n",
    "year_vs_price_df = pd.DataFrame()\n",
    "year_vs_price_df[\"Year built\"] = year_built\n",
    "year_vs_price_df[\"Price\"] = price\n",
    "\n",
    "print(year_vs_price_df)"
   ]
  },
  {
   "cell_type": "code",
   "execution_count": 389,
   "id": "fc5cddb5-d393-4935-9e25-0242a0f33e93",
   "metadata": {},
   "outputs": [
    {
     "name": "stdout",
     "output_type": "stream",
     "text": [
      "      Year built   Price\n",
      "Id                      \n",
      "25          1900  688668\n",
      "577         1900  756168\n",
      "1928        1900  193092\n",
      "755         1900   92103\n",
      "1945        1900  776262\n",
      "...          ...     ...\n",
      "1951        2023  153845\n",
      "599         2023  594950\n",
      "1708        2023  305560\n",
      "612         2023   99966\n",
      "1754        2023  747143\n",
      "\n",
      "[2000 rows x 2 columns]\n"
     ]
    },
    {
     "data": {
      "text/plain": [
       "<function matplotlib.pyplot.show(close=None, block=None)>"
      ]
     },
     "execution_count": 389,
     "metadata": {},
     "output_type": "execute_result"
    },
    {
     "data": {
      "image/png": "[encoded data removed]",
      "text/plain": [
       "<Figure size 640x480 with 1 Axes>"
      ]
     },
     "metadata": {},
     "output_type": "display_data"
    }
   ],
   "source": [
    "# analyze correlation between year built and price \n",
    "sorted_year_vs_price_df = year_vs_price_df.sort_values(by=[\"Year built\"])\n",
    "print(sorted_year_vs_price_df)\n",
    "# define data vales\n",
    "x = sorted_year_vs_price_df[\"Year built\"]\n",
    "y = sorted_year_vs_price_df[\"Price\"]\n",
    "plt.plot(x,y)\n",
    "plt.show"
   ]
  },
  {
   "cell_type": "code",
   "execution_count": 390,
   "id": "b24415fc-1d75-4b7d-9f34-3121a36b6a92",
   "metadata": {},
   "outputs": [
    {
     "data": {
      "text/plain": [
       "<function matplotlib.pyplot.show(close=None, block=None)>"
      ]
     },
     "execution_count": 390,
     "metadata": {},
     "output_type": "execute_result"
    },
    {
     "data": {
      "image/png": "[encoded data removed]",
      "text/plain": [
       "<Figure size 640x480 with 1 Axes>"
      ]
     },
     "metadata": {},
     "output_type": "display_data"
    }
   ],
   "source": [
    "plt.scatter(x,y)\n",
    "plt.show"
   ]
  },
  {
   "cell_type": "code",
   "execution_count": 391,
   "id": "12b3fc2f-ba18-4fec-89bd-aa1f883960be",
   "metadata": {},
   "outputs": [
    {
     "name": "stdout",
     "output_type": "stream",
     "text": [
      "PearsonRResult(statistic=0.0048451638346972675, pvalue=0.8285605208962548)\n"
     ]
    }
   ],
   "source": [
    "print(pearsonr(x, y))"
   ]
  },
  {
   "cell_type": "code",
   "execution_count": 392,
   "id": "6d5535aa-1354-4958-9003-4a50a3564828",
   "metadata": {},
   "outputs": [],
   "source": [
    "# Establish the bins.\n",
    "period_bins = [1899, 1950, 2023]\n",
    "period_labels = [\"Pre-1950\", \"Post-1950\"]"
   ]
  },
  {
   "cell_type": "code",
   "execution_count": 393,
   "id": "d5111b76-b694-4b7c-9f02-ce163e13d6ca",
   "metadata": {},
   "outputs": [
    {
     "name": "stdout",
     "output_type": "stream",
     "text": [
      "      Year built   Price Period built\n",
      "Id                                   \n",
      "25          1900  688668     Pre-1950\n",
      "577         1900  756168     Pre-1950\n",
      "1928        1900  193092     Pre-1950\n",
      "755         1900   92103     Pre-1950\n",
      "1945        1900  776262     Pre-1950\n",
      "...          ...     ...          ...\n",
      "1951        2023  153845    Post-1950\n",
      "599         2023  594950    Post-1950\n",
      "1708        2023  305560    Post-1950\n",
      "612         2023   99966    Post-1950\n",
      "1754        2023  747143    Post-1950\n",
      "\n",
      "[2000 rows x 3 columns]\n"
     ]
    }
   ],
   "source": [
    "sorted_year_vs_price_df[\"Period built\"] = pd.cut(sorted_year_vs_price_df[\"Year built\"] , bins = period_bins, labels = period_labels)\n",
    "print(sorted_year_vs_price_df)"
   ]
  },
  {
   "cell_type": "code",
   "execution_count": 394,
   "id": "f6efd264-555a-4f79-b3d8-507f7b274950",
   "metadata": {},
   "outputs": [
    {
     "name": "stdout",
     "output_type": "stream",
     "text": [
      "Length of Price Change List: 2000\n",
      "Length of Pre-1950 Price Change List: 2000\n",
      "Length of Post-1950 Price Change List: 2000\n"
     ]
    }
   ],
   "source": [
    "# For second iteration\n",
    "# Current price: 756168\n",
    "# Previous price: 688668\n",
    "# Change in price = Current price - previous price\n",
    "\n",
    "# Check if pre-1950 or post-1950\n",
    "# Store current price\n",
    "# Subtract current price from previous price\n",
    "# Add difference to change list\n",
    "# Update new previous price as current price\n",
    "\n",
    "# for \" an_individual_value\" in \"some_set_of_data\":\n",
    "#for row in sorted_year_vs_price_df[\"Price\"]:\n",
    "\n",
    "#Initialize variables\n",
    "curr_price = 0\n",
    "prev_price = 0\n",
    "prev_period = \"\"\n",
    "curr_period = \"\"\n",
    "pre_1950_change = []\n",
    "post_1950_change = []\n",
    "change=[]\n",
    "\n",
    "# For loop that loops through each row in the DataFrame\n",
    "for index, row in sorted_year_vs_price_df.iterrows():\n",
    "    period_built = row[\"Period built\"]\n",
    "    curr_price = row[\"Price\"]\n",
    "\n",
    "    diff_in_price = curr_price - prev_price\n",
    "    curr_period = period_built #Track period to keep Pre and Post 1950 calculations seperate\n",
    "    change.append(diff_in_price)\n",
    "    \n",
    "    # if(a_certain_conditon_is_met):\n",
    "    if period_built == \"Pre-1950\":\n",
    "        pre_1950_change.append(diff_in_price)\n",
    "        post_1950_change.append(0)\n",
    "    elif period_built == \"Post-1950\":\n",
    "        if prev_period == \"Pre-1950\" and curr_period == \"Post-1950\":\n",
    "            diff_in_price = curr_price - 0 # Make sure that we arent subtracting Pre-1950 from Post-1950 price\n",
    "        post_1950_change.append(diff_in_price)\n",
    "        pre_1950_change.append(0)\n",
    "        \n",
    "    prev_price = curr_price\n",
    "    prev_period = curr_period\n",
    "        \n",
    "print(\"Length of Price Change List:\", len(change))\n",
    "print(\"Length of Pre-1950 Price Change List:\", len(pre_1950_change))\n",
    "print(\"Length of Post-1950 Price Change List:\", len(post_1950_change))"
   ]
  },
  {
   "cell_type": "code",
   "execution_count": 395,
   "id": "ff384230-fb0b-46c1-adf4-0c3b0badec2e",
   "metadata": {},
   "outputs": [
    {
     "data": {
      "text/html": [
       "<div>\n",
       "<style scoped>\n",
       "    .dataframe tbody tr th:only-of-type {\n",
       "        vertical-align: middle;\n",
       "    }\n",
       "\n",
       "    .dataframe tbody tr th {\n",
       "        vertical-align: top;\n",
       "    }\n",
       "\n",
       "    .dataframe thead th {\n",
       "        text-align: right;\n",
       "    }\n",
       "</style>\n",
       "<table border=\"1\" class=\"dataframe\">\n",
       "  <thead>\n",
       "    <tr style=\"text-align: right;\">\n",
       "      <th></th>\n",
       "      <th>Year built</th>\n",
       "      <th>Price</th>\n",
       "      <th>Period built</th>\n",
       "      <th>Price Change</th>\n",
       "    </tr>\n",
       "    <tr>\n",
       "      <th>Id</th>\n",
       "      <th></th>\n",
       "      <th></th>\n",
       "      <th></th>\n",
       "      <th></th>\n",
       "    </tr>\n",
       "  </thead>\n",
       "  <tbody>\n",
       "    <tr>\n",
       "      <th>25</th>\n",
       "      <td>1900</td>\n",
       "      <td>688668</td>\n",
       "      <td>Pre-1950</td>\n",
       "      <td>688668</td>\n",
       "    </tr>\n",
       "    <tr>\n",
       "      <th>577</th>\n",
       "      <td>1900</td>\n",
       "      <td>756168</td>\n",
       "      <td>Pre-1950</td>\n",
       "      <td>67500</td>\n",
       "    </tr>\n",
       "    <tr>\n",
       "      <th>1928</th>\n",
       "      <td>1900</td>\n",
       "      <td>193092</td>\n",
       "      <td>Pre-1950</td>\n",
       "      <td>-563076</td>\n",
       "    </tr>\n",
       "    <tr>\n",
       "      <th>755</th>\n",
       "      <td>1900</td>\n",
       "      <td>92103</td>\n",
       "      <td>Pre-1950</td>\n",
       "      <td>-100989</td>\n",
       "    </tr>\n",
       "    <tr>\n",
       "      <th>1945</th>\n",
       "      <td>1900</td>\n",
       "      <td>776262</td>\n",
       "      <td>Pre-1950</td>\n",
       "      <td>684159</td>\n",
       "    </tr>\n",
       "    <tr>\n",
       "      <th>...</th>\n",
       "      <td>...</td>\n",
       "      <td>...</td>\n",
       "      <td>...</td>\n",
       "      <td>...</td>\n",
       "    </tr>\n",
       "    <tr>\n",
       "      <th>1951</th>\n",
       "      <td>2023</td>\n",
       "      <td>153845</td>\n",
       "      <td>Post-1950</td>\n",
       "      <td>-332090</td>\n",
       "    </tr>\n",
       "    <tr>\n",
       "      <th>599</th>\n",
       "      <td>2023</td>\n",
       "      <td>594950</td>\n",
       "      <td>Post-1950</td>\n",
       "      <td>441105</td>\n",
       "    </tr>\n",
       "    <tr>\n",
       "      <th>1708</th>\n",
       "      <td>2023</td>\n",
       "      <td>305560</td>\n",
       "      <td>Post-1950</td>\n",
       "      <td>-289390</td>\n",
       "    </tr>\n",
       "    <tr>\n",
       "      <th>612</th>\n",
       "      <td>2023</td>\n",
       "      <td>99966</td>\n",
       "      <td>Post-1950</td>\n",
       "      <td>-205594</td>\n",
       "    </tr>\n",
       "    <tr>\n",
       "      <th>1754</th>\n",
       "      <td>2023</td>\n",
       "      <td>747143</td>\n",
       "      <td>Post-1950</td>\n",
       "      <td>647177</td>\n",
       "    </tr>\n",
       "  </tbody>\n",
       "</table>\n",
       "<p>2000 rows × 4 columns</p>\n",
       "</div>"
      ],
      "text/plain": [
       "      Year built   Price Period built  Price Change\n",
       "Id                                                 \n",
       "25          1900  688668     Pre-1950        688668\n",
       "577         1900  756168     Pre-1950         67500\n",
       "1928        1900  193092     Pre-1950       -563076\n",
       "755         1900   92103     Pre-1950       -100989\n",
       "1945        1900  776262     Pre-1950        684159\n",
       "...          ...     ...          ...           ...\n",
       "1951        2023  153845    Post-1950       -332090\n",
       "599         2023  594950    Post-1950        441105\n",
       "1708        2023  305560    Post-1950       -289390\n",
       "612         2023   99966    Post-1950       -205594\n",
       "1754        2023  747143    Post-1950        647177\n",
       "\n",
       "[2000 rows x 4 columns]"
      ]
     },
     "execution_count": 395,
     "metadata": {},
     "output_type": "execute_result"
    }
   ],
   "source": [
    "# Add changes list to Dataframe\n",
    "sorted_year_vs_price_df[\"Price Change\"] = change\n",
    "sorted_year_vs_price_df"
   ]
  },
  {
   "cell_type": "code",
   "execution_count": 396,
   "id": "970afb59-bc32-4ee7-b10c-9ad719ec48fb",
   "metadata": {},
   "outputs": [
    {
     "data": {
      "text/plain": [
       "<function matplotlib.pyplot.show(close=None, block=None)>"
      ]
     },
     "execution_count": 396,
     "metadata": {},
     "output_type": "execute_result"
    },
    {
     "data": {
      "image/png": "[encoded data removed]",
      "text/plain": [
       "<Figure size 640x480 with 1 Axes>"
      ]
     },
     "metadata": {},
     "output_type": "display_data"
    }
   ],
   "source": [
    "x = sorted_year_vs_price_df[\"Year built\"]\n",
    "y1 = pre_1950_change\n",
    "y2 = post_1950_change\n",
    "\n",
    "plt.plot(x, y1, label = \"Pre-1950 Price Changes\")\n",
    "plt.plot(x, y2, label = \"Post-1950 Price Changes\")\n",
    "plt.legend()\n",
    "plt.show"
   ]
  },
  {
   "cell_type": "code",
   "execution_count": 397,
   "id": "d632ac82-080f-4f5c-9ed8-c3d63d14f599",
   "metadata": {},
   "outputs": [
    {
     "name": "stdout",
     "output_type": "stream",
     "text": [
      "Pre-1950 Correlation PearsonRResult(statistic=-0.0016155635016071408, pvalue=0.9424387072592203)\n",
      "Post-1950 Correlation PearsonRResult(statistic=0.00041487661431369, pvalue=0.9852062746826162)\n"
     ]
    }
   ],
   "source": [
    "print(\"Pre-1950 Correlation\", pearsonr(x, pre_1950_change))\n",
    "print(\"Post-1950 Correlation\", pearsonr(x, post_1950_change))"
   ]
  }
 ],
 "metadata": {
  "kernelspec": {
   "display_name": "Python 3 (ipykernel)",
   "language": "python",
   "name": "python3"
  },
  "language_info": {
   "codemirror_mode": {
    "name": "ipython",
    "version": 3
   },
   "file_extension": ".py",
   "mimetype": "text/x-python",
   "name": "python",
   "nbconvert_exporter": "python",
   "pygments_lexer": "ipython3",
   "version": "3.12.4"
  }
 },
 "nbformat": 4,
 "nbformat_minor": 5
}
