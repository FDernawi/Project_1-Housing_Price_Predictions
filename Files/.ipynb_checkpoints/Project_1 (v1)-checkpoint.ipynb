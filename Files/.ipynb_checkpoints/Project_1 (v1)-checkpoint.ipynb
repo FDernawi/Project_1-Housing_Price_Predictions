{
 "cells": [
  {
   "cell_type": "code",
   "execution_count": 61,
   "id": "73c940b9-9e93-43eb-bdb4-4df764b8b3b5",
   "metadata": {},
   "outputs": [],
   "source": [
    "#importing the dependencies\n",
    "import csv\n",
    "import pandas as pd\n",
    "from pathlib import Path\n",
    "import matplotlib.pyplot as plt"
   ]
  },
  {
   "cell_type": "code",
   "execution_count": 62,
   "id": "44b28439-71a7-4355-946c-b2fa695448dd",
   "metadata": {},
   "outputs": [
    {
     "data": {
      "text/html": [
       "<div>\n",
       "<style scoped>\n",
       "    .dataframe tbody tr th:only-of-type {\n",
       "        vertical-align: middle;\n",
       "    }\n",
       "\n",
       "    .dataframe tbody tr th {\n",
       "        vertical-align: top;\n",
       "    }\n",
       "\n",
       "    .dataframe thead th {\n",
       "        text-align: right;\n",
       "    }\n",
       "</style>\n",
       "<table border=\"1\" class=\"dataframe\">\n",
       "  <thead>\n",
       "    <tr style=\"text-align: right;\">\n",
       "      <th></th>\n",
       "      <th>Id</th>\n",
       "      <th>Area</th>\n",
       "      <th>Bedrooms</th>\n",
       "      <th>Bathrooms</th>\n",
       "      <th>Floors</th>\n",
       "      <th>YearBuilt</th>\n",
       "      <th>Location</th>\n",
       "      <th>Condition</th>\n",
       "      <th>Garage</th>\n",
       "      <th>Price</th>\n",
       "    </tr>\n",
       "  </thead>\n",
       "  <tbody>\n",
       "    <tr>\n",
       "      <th>0</th>\n",
       "      <td>1</td>\n",
       "      <td>1360</td>\n",
       "      <td>5</td>\n",
       "      <td>4</td>\n",
       "      <td>3</td>\n",
       "      <td>1970</td>\n",
       "      <td>Downtown</td>\n",
       "      <td>Excellent</td>\n",
       "      <td>No</td>\n",
       "      <td>149919</td>\n",
       "    </tr>\n",
       "    <tr>\n",
       "      <th>1</th>\n",
       "      <td>2</td>\n",
       "      <td>4272</td>\n",
       "      <td>5</td>\n",
       "      <td>4</td>\n",
       "      <td>3</td>\n",
       "      <td>1958</td>\n",
       "      <td>Downtown</td>\n",
       "      <td>Excellent</td>\n",
       "      <td>No</td>\n",
       "      <td>424998</td>\n",
       "    </tr>\n",
       "    <tr>\n",
       "      <th>2</th>\n",
       "      <td>3</td>\n",
       "      <td>3592</td>\n",
       "      <td>2</td>\n",
       "      <td>2</td>\n",
       "      <td>3</td>\n",
       "      <td>1938</td>\n",
       "      <td>Downtown</td>\n",
       "      <td>Good</td>\n",
       "      <td>No</td>\n",
       "      <td>266746</td>\n",
       "    </tr>\n",
       "    <tr>\n",
       "      <th>3</th>\n",
       "      <td>4</td>\n",
       "      <td>966</td>\n",
       "      <td>4</td>\n",
       "      <td>2</td>\n",
       "      <td>2</td>\n",
       "      <td>1902</td>\n",
       "      <td>Suburban</td>\n",
       "      <td>Fair</td>\n",
       "      <td>Yes</td>\n",
       "      <td>244020</td>\n",
       "    </tr>\n",
       "    <tr>\n",
       "      <th>4</th>\n",
       "      <td>5</td>\n",
       "      <td>4926</td>\n",
       "      <td>1</td>\n",
       "      <td>4</td>\n",
       "      <td>2</td>\n",
       "      <td>1975</td>\n",
       "      <td>Downtown</td>\n",
       "      <td>Fair</td>\n",
       "      <td>Yes</td>\n",
       "      <td>636056</td>\n",
       "    </tr>\n",
       "  </tbody>\n",
       "</table>\n",
       "</div>"
      ],
      "text/plain": [
       "   Id  Area  Bedrooms  Bathrooms  Floors  YearBuilt  Location  Condition  \\\n",
       "0   1  1360         5          4       3       1970  Downtown  Excellent   \n",
       "1   2  4272         5          4       3       1958  Downtown  Excellent   \n",
       "2   3  3592         2          2       3       1938  Downtown       Good   \n",
       "3   4   966         4          2       2       1902  Suburban       Fair   \n",
       "4   5  4926         1          4       2       1975  Downtown       Fair   \n",
       "\n",
       "  Garage   Price  \n",
       "0     No  149919  \n",
       "1     No  424998  \n",
       "2     No  266746  \n",
       "3    Yes  244020  \n",
       "4    Yes  636056  "
      ]
     },
     "execution_count": 62,
     "metadata": {},
     "output_type": "execute_result"
    }
   ],
   "source": [
    "# Load the dataset from the provided path\n",
    "origin_data = pd.read_csv(\"house_price_prediction_dataset.csv\")\n",
    "#displaying the first five rows\n",
    "origin_data.head()"
   ]
  },
  {
   "cell_type": "code",
   "execution_count": 64,
   "id": "0c19e657-26ed-41c3-befe-ecafb0e17649",
   "metadata": {},
   "outputs": [
    {
     "name": "stdout",
     "output_type": "stream",
     "text": [
      "<class 'pandas.core.frame.DataFrame'>\n",
      "RangeIndex: 2000 entries, 0 to 1999\n",
      "Data columns (total 10 columns):\n",
      " #   Column     Non-Null Count  Dtype \n",
      "---  ------     --------------  ----- \n",
      " 0   Id         2000 non-null   int64 \n",
      " 1   Area       2000 non-null   int64 \n",
      " 2   Bedrooms   2000 non-null   int64 \n",
      " 3   Bathrooms  2000 non-null   int64 \n",
      " 4   Floors     2000 non-null   int64 \n",
      " 5   YearBuilt  2000 non-null   int64 \n",
      " 6   Location   2000 non-null   object\n",
      " 7   Condition  2000 non-null   object\n",
      " 8   Garage     2000 non-null   object\n",
      " 9   Price      2000 non-null   int64 \n",
      "dtypes: int64(7), object(3)\n",
      "memory usage: 156.4+ KB\n"
     ]
    }
   ],
   "source": [
    "origin_data.info()"
   ]
  },
  {
   "cell_type": "code",
   "execution_count": 63,
   "id": "ec760798-cbae-41b5-a605-c4fc4073f880",
   "metadata": {},
   "outputs": [
    {
     "data": {
      "text/plain": [
       "(2000, 10)"
      ]
     },
     "execution_count": 63,
     "metadata": {},
     "output_type": "execute_result"
    }
   ],
   "source": [
    "# Describing the shape of the data by indicating the number of rows and columns (rows , columns)\n",
    "origin_data.shape"
   ]
  },
  {
   "cell_type": "code",
   "execution_count": 91,
   "id": "568c4a0c-3585-4c67-86c9-2d2d8d4cd1ce",
   "metadata": {},
   "outputs": [
    {
     "data": {
      "text/plain": [
       "Location\n",
       "Downtown    51845\n",
       "Name: Price, dtype: int64"
      ]
     },
     "execution_count": 91,
     "metadata": {},
     "output_type": "execute_result"
    }
   ],
   "source": [
    "min_price_downtown= origin_data[origin_data[\"Location\"]==\"Downtown\"].groupby(\"Location\")[\"Price\"].min()\n",
    "min_price_downtown"
   ]
  },
  {
   "cell_type": "code",
   "execution_count": 92,
   "id": "a88870df-3d5a-4070-a96b-50eb541bdec3",
   "metadata": {},
   "outputs": [
    {
     "data": {
      "text/plain": [
       "Location\n",
       "Downtown    536060.0\n",
       "Name: Price, dtype: float64"
      ]
     },
     "execution_count": 92,
     "metadata": {},
     "output_type": "execute_result"
    }
   ],
   "source": [
    "avr_price_downtown= origin_data[origin_data[\"Location\"]==\"Downtown\"].groupby(\"Location\")[\"Price\"].mean().round()\n",
    "avr_price_downtown"
   ]
  },
  {
   "cell_type": "code",
   "execution_count": 93,
   "id": "96cb4ff4-9900-47c4-8376-076c79ee409c",
   "metadata": {},
   "outputs": [
    {
     "data": {
      "text/plain": [
       "Location\n",
       "Rural    538614.0\n",
       "Name: Price, dtype: float64"
      ]
     },
     "execution_count": 93,
     "metadata": {},
     "output_type": "execute_result"
    }
   ],
   "source": [
    "avr_price_rural= origin_data[origin_data[\"Location\"]==\"Rural\"].groupby(\"Location\")[\"Price\"].mean().round()\n",
    "avr_price_rural"
   ]
  },
  {
   "cell_type": "code",
   "execution_count": 94,
   "id": "8c206c2c-cf97-4425-84bf-2cb261f39df2",
   "metadata": {},
   "outputs": [
    {
     "data": {
      "text/plain": [
       "Location\n",
       "Suburban    557416.0\n",
       "Name: Price, dtype: float64"
      ]
     },
     "execution_count": 94,
     "metadata": {},
     "output_type": "execute_result"
    }
   ],
   "source": [
    "avr_price_suburban= origin_data[origin_data[\"Location\"]==\"Suburban\"].groupby(\"Location\")[\"Price\"].mean().round()\n",
    "avr_price_suburban"
   ]
  },
  {
   "cell_type": "code",
   "execution_count": 95,
   "id": "7e3a711a-ade4-4e22-99ab-51b3cedad7e7",
   "metadata": {},
   "outputs": [
    {
     "data": {
      "text/plain": [
       "Location\n",
       "Suburban    50064\n",
       "Name: Price, dtype: int64"
      ]
     },
     "execution_count": 95,
     "metadata": {},
     "output_type": "execute_result"
    }
   ],
   "source": [
    "min_price_suburban= origin_data[origin_data[\"Location\"]==\"Suburban\"].groupby(\"Location\")[\"Price\"].min().round()\n",
    "min_price_suburban"
   ]
  },
  {
   "cell_type": "code",
   "execution_count": 96,
   "id": "51cc0016-7b42-4db6-9d30-62f6ed34dfca",
   "metadata": {},
   "outputs": [
    {
     "data": {
      "text/plain": [
       "Location\n",
       "Suburban    999656\n",
       "Name: Price, dtype: int64"
      ]
     },
     "execution_count": 96,
     "metadata": {},
     "output_type": "execute_result"
    }
   ],
   "source": [
    "max_price_suburban= origin_data[origin_data[\"Location\"]==\"Suburban\"].groupby(\"Location\")[\"Price\"].max().round()\n",
    "max_price_suburban"
   ]
  },
  {
   "cell_type": "code",
   "execution_count": 86,
   "id": "580dfc20-e4ef-43fa-8f39-493fb43087f7",
   "metadata": {},
   "outputs": [
    {
     "data": {
      "text/plain": [
       "Price\n",
       "50005     4260.0\n",
       "50064     2871.0\n",
       "51082      509.0\n",
       "51845     4368.0\n",
       "52024     4138.0\n",
       "           ...  \n",
       "997719    2985.0\n",
       "998084    2860.0\n",
       "998128     736.0\n",
       "999453     566.0\n",
       "999656    3099.0\n",
       "Name: Area, Length: 1999, dtype: float64"
      ]
     },
     "execution_count": 86,
     "metadata": {},
     "output_type": "execute_result"
    }
   ],
   "source": [
    "mean_price_sqft = origin_data.groupby('Price')['Area'].mean().round(2)\n",
    "mean_price_sqft"
   ]
  },
  {
   "cell_type": "code",
   "execution_count": 106,
   "id": "056bbbb9-c1c5-4164-bbc0-d5ea124e6e3f",
   "metadata": {},
   "outputs": [
    {
     "name": "stdout",
     "output_type": "stream",
     "text": [
      "   Id  Area  Bedrooms  Bathrooms  Floors  YearBuilt  Location  Condition  \\\n",
      "0   1  1360         5          4       3       1970  Downtown  Excellent   \n",
      "1   2  4272         5          4       3       1958  Downtown  Excellent   \n",
      "2   3  3592         2          2       3       1938  Downtown       Good   \n",
      "3   4   966         4          2       2       1902  Suburban       Fair   \n",
      "4   5  4926         1          4       2       1975  Downtown       Fair   \n",
      "\n",
      "  Garage   Price  Age_of_House  PricePerSqFt  \n",
      "0     No  149919            54    110.234559  \n",
      "1     No  424998            66     99.484551  \n",
      "2     No  266746            86     74.261136  \n",
      "3    Yes  244020           122    252.608696  \n",
      "4    Yes  636056            49    129.122209  \n"
     ]
    }
   ],
   "source": [
    "price_per_sqft = origin_data['PricePerSqFt'] = origin_data['Price'] / origin_data['Area']\n",
    "print(origin_data.head())"
   ]
  },
  {
   "cell_type": "code",
   "execution_count": 65,
   "id": "10a2f61f-9d4b-4400-afb3-e4273487efa9",
   "metadata": {},
   "outputs": [
    {
     "name": "stdout",
     "output_type": "stream",
     "text": [
      "999656\n"
     ]
    }
   ],
   "source": [
    "max_price_dataset = origin_data['Price'].max()\n",
    "print(max_price_dataset)"
   ]
  },
  {
   "cell_type": "code",
   "execution_count": 66,
   "id": "bec63d45-86ec-4115-a24c-9e356ccc1a1b",
   "metadata": {},
   "outputs": [
    {
     "name": "stdout",
     "output_type": "stream",
     "text": [
      "50005\n"
     ]
    }
   ],
   "source": [
    "min_price_dataset = origin_data['Price'].min()\n",
    "print(min_price_dataset)"
   ]
  },
  {
   "cell_type": "code",
   "execution_count": 67,
   "id": "09478689-db4a-4d88-8a44-38a0b0c9c29e",
   "metadata": {},
   "outputs": [
    {
     "name": "stdout",
     "output_type": "stream",
     "text": [
      "1997\n"
     ]
    }
   ],
   "source": [
    "year_of_max_price = origin_data.loc[origin_data['Price'] == max_price_dataset, 'YearBuilt'].values[0]\n",
    "print(year_of_max_price)"
   ]
  },
  {
   "cell_type": "code",
   "execution_count": 68,
   "id": "cf3fae6b-09b8-4093-8cc6-77cd5a69410e",
   "metadata": {},
   "outputs": [
    {
     "name": "stdout",
     "output_type": "stream",
     "text": [
      "1907\n"
     ]
    }
   ],
   "source": [
    "year_min_price = origin_data.loc[origin_data['Price'] == min_price_dataset, 'YearBuilt'].values[0]\n",
    "print(year_min_price)"
   ]
  },
  {
   "cell_type": "code",
   "execution_count": 69,
   "id": "5e3e99d3-623c-41f4-afe2-283d54afceb8",
   "metadata": {},
   "outputs": [
    {
     "name": "stdout",
     "output_type": "stream",
     "text": [
      "   Location      Price\n",
      "0  Downtown  536059.66\n",
      "1     Rural  538613.94\n",
      "2  Suburban  557416.33\n",
      "3     Urban  518963.55\n"
     ]
    }
   ],
   "source": [
    "# finding the average price depending on the location (analysis),rounding to two decimal\n",
    "\n",
    "avg_price_by_loc = origin_data.groupby(\"Location\")[\"Price\"].mean().round(2).reset_index(name=\"Price\")\n",
    "print(avg_price_by_loc)"
   ]
  },
  {
   "cell_type": "code",
   "execution_count": 70,
   "id": "b5a48391-1c76-4f8a-90d7-fb6c4ac9f298",
   "metadata": {},
   "outputs": [
    {
     "name": "stdout",
     "output_type": "stream",
     "text": [
      "Condition\n",
      "Excellent    530812.01\n",
      "Fair         560594.14\n",
      "Good         529002.35\n",
      "Poor         528933.22\n",
      "Name: Price, dtype: float64\n"
     ]
    }
   ],
   "source": [
    " # finding the average price of the house by condition\n",
    "avg_price_by_condition = origin_data.groupby(\"Condition\")[\"Price\"].mean().round(2)\n",
    "print(avg_price_by_condition)"
   ]
  },
  {
   "cell_type": "code",
   "execution_count": 71,
   "id": "cfbb7753-4c01-4a4d-b05b-cb2542ef5e03",
   "metadata": {},
   "outputs": [
    {
     "name": "stdout",
     "output_type": "stream",
     "text": [
      "Bedrooms\n",
      "1    530561.6\n",
      "2    545546.5\n",
      "3    546977.9\n",
      "4    533696.9\n",
      "5    532500.1\n",
      "Name: Price, dtype: float64\n"
     ]
    }
   ],
   "source": [
    "# analysing the price of house based on number of bedrooms\n",
    "avg_price_by_bedrooms = origin_data.groupby(\"Bedrooms\")[\"Price\"].mean().round(1)\n",
    "print(avg_price_by_bedrooms)"
   ]
  },
  {
   "cell_type": "code",
   "execution_count": 72,
   "id": "e281fb14-0bd5-42f6-8d30-2b6e850d4213",
   "metadata": {},
   "outputs": [
    {
     "name": "stdout",
     "output_type": "stream",
     "text": [
      "Floors\n",
      "1    2748.76\n",
      "2    2804.05\n",
      "3    2805.39\n",
      "Name: Area, dtype: float64\n"
     ]
    }
   ],
   "source": [
    "# New Variable created testing the floor area average\n",
    "floors_avg_area = origin_data.groupby('Floors')['Area'].mean().round(2)\n",
    "print(floors_avg_area)"
   ]
  },
  {
   "cell_type": "code",
   "execution_count": 73,
   "id": "62849b47-130f-4ca2-ac44-562f56f27934",
   "metadata": {},
   "outputs": [
    {
     "name": "stdout",
     "output_type": "stream",
     "text": [
      "Location\n",
      "Downtown    558\n",
      "Rural       474\n",
      "Suburban    483\n",
      "Urban       485\n",
      "Name: Id, dtype: int64\n"
     ]
    }
   ],
   "source": [
    "# Location count based on ID\n",
    "location_count = origin_data.groupby('Location')['Id'].count()\n",
    "print(location_count)"
   ]
  },
  {
   "cell_type": "code",
   "execution_count": 74,
   "id": "50237026-7423-4fcd-8843-342c0ca9d613",
   "metadata": {},
   "outputs": [
    {
     "name": "stdout",
     "output_type": "stream",
     "text": [
      "YearBuilt\n",
      "1900    992151\n",
      "1901    954890\n",
      "1902    930507\n",
      "1903    883247\n",
      "1904    987126\n",
      "         ...  \n",
      "2019    991869\n",
      "2020    964863\n",
      "2021    847399\n",
      "2022    888418\n",
      "2023    959222\n",
      "Name: Price, Length: 124, dtype: int64\n"
     ]
    }
   ],
   "source": [
    "#creation of variable to show the median price based on the year built\n",
    "yearbuilt_max_price = origin_data.groupby('YearBuilt')['Price'].max()\n",
    "#df=yearbuilt_median_price['Price'].median()\n",
    "#max_price=df.max()\n",
    "print(yearbuilt_max_price)\n",
    "##print(yearbuilt_median_price.max())"
   ]
  },
  {
   "cell_type": "code",
   "execution_count": 75,
   "id": "ac6b46b6-d7f6-47dd-a4cc-90e8adf2bf1f",
   "metadata": {},
   "outputs": [
    {
     "data": {
      "text/plain": [
       "0        54\n",
       "1        66\n",
       "2        86\n",
       "3       122\n",
       "4        49\n",
       "       ... \n",
       "1995    101\n",
       "1996      5\n",
       "1997    121\n",
       "1998     88\n",
       "1999    121\n",
       "Name: YearBuilt, Length: 2000, dtype: int64"
      ]
     },
     "execution_count": 75,
     "metadata": {},
     "output_type": "execute_result"
    }
   ],
   "source": [
    "# create a new column for the age of the house:(addinf a new columns name age_of_house)\n",
    "house_age = origin_data[\"Age_of_House\"]= 2024-origin_data[\"YearBuilt\"]\n",
    "house_age"
   ]
  },
  {
   "cell_type": "code",
   "execution_count": 76,
   "id": "4c245315-4e67-4c23-bd05-1918f07a095b",
   "metadata": {},
   "outputs": [
    {
     "name": "stdout",
     "output_type": "stream",
     "text": [
      "Area\n",
      "501     2\n",
      "502     1\n",
      "503     1\n",
      "504     1\n",
      "505     1\n",
      "       ..\n",
      "4994    3\n",
      "4995    1\n",
      "4996    2\n",
      "4997    1\n",
      "4999    1\n",
      "Name: Id, Length: 1622, dtype: int64\n"
     ]
    }
   ],
   "source": [
    "# Data grouped by area\n",
    "total_houses_by_area = origin_data.groupby('Area')['Id'].count()\n",
    "print(total_houses_by_area)"
   ]
  },
  {
   "cell_type": "code",
   "execution_count": 77,
   "id": "cfc2018e-d608-47e8-bcc3-91b7a481981e",
   "metadata": {},
   "outputs": [
    {
     "name": "stdout",
     "output_type": "stream",
     "text": [
      "Bathrooms\n",
      "1    51082\n",
      "2    50005\n",
      "3    53657\n",
      "4    51845\n",
      "Name: Price, dtype: int64\n"
     ]
    }
   ],
   "source": [
    "# New variable to determine price by number of bathrooms present in house\n",
    "bathrooms_min_price = origin_data.groupby('Bathrooms')['Price'].min()\n",
    "print(bathrooms_min_price)\n"
   ]
  },
  {
   "cell_type": "code",
   "execution_count": 78,
   "id": "bf11bb63-d530-4498-bde0-89adfec09917",
   "metadata": {},
   "outputs": [
    {
     "name": "stdout",
     "output_type": "stream",
     "text": [
      "Garage\n",
      "No     999656\n",
      "Yes    999453\n",
      "Name: Price, dtype: int64\n"
     ]
    },
    {
     "data": {
      "text/plain": [
       "'\\nThere is not much difference in the price of the house by garage.\\n'"
      ]
     },
     "execution_count": 78,
     "metadata": {},
     "output_type": "execute_result"
    }
   ],
   "source": [
    "# the price of a hosue relative to the factor garage\n",
    "garage_max_price = origin_data.groupby('Garage')['Price'].max()\n",
    "print(garage_max_price)\n",
    "'''\n",
    "There is not much difference in the price of the house by garage.\n",
    "'''"
   ]
  },
  {
   "cell_type": "code",
   "execution_count": null,
   "id": "8157d643-0905-4ce0-a1c1-d81e16570c63",
   "metadata": {},
   "outputs": [],
   "source": [
    "price_per_sqft_by_condition.describe()"
   ]
  },
  {
   "cell_type": "code",
   "execution_count": null,
   "id": "1f7773bc-60cb-4e1a-b3f4-ceca28e7eb7f",
   "metadata": {},
   "outputs": [],
   "source": [
    "# creation of variable showing the percentage of total houses in each location\n",
    "total_houses = location_count.sum()\n",
    "location_percentage = (location_count / total_houses) * 100\n",
    "print(\"Percentage of houses in each location:\")\n",
    "print(location_percentage)"
   ]
  },
  {
   "cell_type": "code",
   "execution_count": 80,
   "id": "d8c91acb-8a26-4663-b89b-b849928751ee",
   "metadata": {},
   "outputs": [
    {
     "data": {
      "text/plain": [
       "Condition\n",
       "Excellent    2.99\n",
       "Fair         3.01\n",
       "Good         2.98\n",
       "Poor         3.03\n",
       "Name: Bedrooms, dtype: float64"
      ]
     },
     "execution_count": 80,
     "metadata": {},
     "output_type": "execute_result"
    }
   ],
   "source": [
    "yearbuilt_condition= origin_data.groupby(\"Condition\")[\"Bedrooms\"].mean().round(2)\n",
    "yearbuilt_condition"
   ]
  },
  {
   "cell_type": "code",
   "execution_count": 81,
   "id": "efb2e1f8-fc64-4e7e-843e-5eb2751de815",
   "metadata": {},
   "outputs": [
    {
     "data": {
      "text/plain": [
       "Floors\n",
       "1    50005\n",
       "2    51082\n",
       "3    53052\n",
       "Name: Price, dtype: int64"
      ]
     },
     "execution_count": 81,
     "metadata": {},
     "output_type": "execute_result"
    }
   ],
   "source": [
    "floors_condition=origin_data.groupby(\"Floors\")[\"Price\"].min().round()\n",
    "floors_condition"
   ]
  },
  {
   "cell_type": "code",
   "execution_count": 82,
   "id": "f1506f50-75a1-49f1-a1f2-a229648287a3",
   "metadata": {},
   "outputs": [
    {
     "data": {
      "text/html": [
       "<div>\n",
       "<style scoped>\n",
       "    .dataframe tbody tr th:only-of-type {\n",
       "        vertical-align: middle;\n",
       "    }\n",
       "\n",
       "    .dataframe tbody tr th {\n",
       "        vertical-align: top;\n",
       "    }\n",
       "\n",
       "    .dataframe thead tr th {\n",
       "        text-align: left;\n",
       "    }\n",
       "\n",
       "    .dataframe thead tr:last-of-type th {\n",
       "        text-align: right;\n",
       "    }\n",
       "</style>\n",
       "<table border=\"1\" class=\"dataframe\">\n",
       "  <thead>\n",
       "    <tr>\n",
       "      <th></th>\n",
       "      <th colspan=\"4\" halign=\"left\">Price</th>\n",
       "    </tr>\n",
       "    <tr>\n",
       "      <th></th>\n",
       "      <th>mean</th>\n",
       "      <th>max</th>\n",
       "      <th>min</th>\n",
       "      <th>count</th>\n",
       "    </tr>\n",
       "    <tr>\n",
       "      <th>Floors</th>\n",
       "      <th></th>\n",
       "      <th></th>\n",
       "      <th></th>\n",
       "      <th></th>\n",
       "    </tr>\n",
       "  </thead>\n",
       "  <tbody>\n",
       "    <tr>\n",
       "      <th>1</th>\n",
       "      <td>520413.98</td>\n",
       "      <td>999453</td>\n",
       "      <td>50005</td>\n",
       "      <td>661</td>\n",
       "    </tr>\n",
       "    <tr>\n",
       "      <th>2</th>\n",
       "      <td>534537.40</td>\n",
       "      <td>996357</td>\n",
       "      <td>51082</td>\n",
       "      <td>691</td>\n",
       "    </tr>\n",
       "    <tr>\n",
       "      <th>3</th>\n",
       "      <td>558633.84</td>\n",
       "      <td>999656</td>\n",
       "      <td>53052</td>\n",
       "      <td>648</td>\n",
       "    </tr>\n",
       "  </tbody>\n",
       "</table>\n",
       "</div>"
      ],
      "text/plain": [
       "            Price                     \n",
       "             mean     max    min count\n",
       "Floors                                \n",
       "1       520413.98  999453  50005   661\n",
       "2       534537.40  996357  51082   691\n",
       "3       558633.84  999656  53052   648"
      ]
     },
     "execution_count": 82,
     "metadata": {},
     "output_type": "execute_result"
    }
   ],
   "source": [
    "price_by_floor=origin_data.groupby(\"Floors\").agg({\"Price\":[\"mean\",\"max\",\"min\",\"count\"]}).round(2)\n",
    "price_by_floor"
   ]
  },
  {
   "cell_type": "code",
   "execution_count": 83,
   "id": "c7e0c977-0a43-48c5-ae65-7c27098a1259",
   "metadata": {},
   "outputs": [
    {
     "data": {
      "text/html": [
       "<div>\n",
       "<style scoped>\n",
       "    .dataframe tbody tr th:only-of-type {\n",
       "        vertical-align: middle;\n",
       "    }\n",
       "\n",
       "    .dataframe tbody tr th {\n",
       "        vertical-align: top;\n",
       "    }\n",
       "\n",
       "    .dataframe thead tr th {\n",
       "        text-align: left;\n",
       "    }\n",
       "\n",
       "    .dataframe thead tr:last-of-type th {\n",
       "        text-align: right;\n",
       "    }\n",
       "</style>\n",
       "<table border=\"1\" class=\"dataframe\">\n",
       "  <thead>\n",
       "    <tr>\n",
       "      <th></th>\n",
       "      <th colspan=\"4\" halign=\"left\">Price</th>\n",
       "    </tr>\n",
       "    <tr>\n",
       "      <th></th>\n",
       "      <th>mean</th>\n",
       "      <th>max</th>\n",
       "      <th>min</th>\n",
       "      <th>count</th>\n",
       "    </tr>\n",
       "    <tr>\n",
       "      <th>Location</th>\n",
       "      <th></th>\n",
       "      <th></th>\n",
       "      <th></th>\n",
       "      <th></th>\n",
       "    </tr>\n",
       "  </thead>\n",
       "  <tbody>\n",
       "    <tr>\n",
       "      <th>Downtown</th>\n",
       "      <td>536059.66</td>\n",
       "      <td>998128</td>\n",
       "      <td>51845</td>\n",
       "      <td>558</td>\n",
       "    </tr>\n",
       "    <tr>\n",
       "      <th>Rural</th>\n",
       "      <td>538613.94</td>\n",
       "      <td>994218</td>\n",
       "      <td>50005</td>\n",
       "      <td>474</td>\n",
       "    </tr>\n",
       "    <tr>\n",
       "      <th>Suburban</th>\n",
       "      <td>557416.33</td>\n",
       "      <td>999656</td>\n",
       "      <td>50064</td>\n",
       "      <td>483</td>\n",
       "    </tr>\n",
       "    <tr>\n",
       "      <th>Urban</th>\n",
       "      <td>518963.55</td>\n",
       "      <td>999453</td>\n",
       "      <td>51082</td>\n",
       "      <td>485</td>\n",
       "    </tr>\n",
       "  </tbody>\n",
       "</table>\n",
       "</div>"
      ],
      "text/plain": [
       "              Price                     \n",
       "               mean     max    min count\n",
       "Location                                \n",
       "Downtown  536059.66  998128  51845   558\n",
       "Rural     538613.94  994218  50005   474\n",
       "Suburban  557416.33  999656  50064   483\n",
       "Urban     518963.55  999453  51082   485"
      ]
     },
     "execution_count": 83,
     "metadata": {},
     "output_type": "execute_result"
    }
   ],
   "source": [
    "price_by_location=origin_data.groupby(\"Location\").agg({\"Price\":[\"mean\",\"max\",\"min\",\"count\"]}).round(2)\n",
    "price_by_location"
   ]
  },
  {
   "cell_type": "code",
   "execution_count": 97,
   "id": "9bf1b5ad-7e32-4d01-ba30-502cc201a4d2",
   "metadata": {},
   "outputs": [
    {
     "data": {
      "text/plain": [
       "(   Location      Price\n",
       " 0  Downtown  536059.66\n",
       " 1     Rural  538613.94\n",
       " 2  Suburban  557416.33\n",
       " 3     Urban  518963.55,\n",
       " Condition\n",
       " Excellent    530812.01\n",
       " Fair         560594.14\n",
       " Good         529002.35\n",
       " Poor         528933.22\n",
       " Name: Price, dtype: float64)"
      ]
     },
     "execution_count": 97,
     "metadata": {},
     "output_type": "execute_result"
    }
   ],
   "source": [
    "avg_price_by_loc,avg_price_by_condition"
   ]
  },
  {
   "cell_type": "code",
   "execution_count": 99,
   "id": "ffcdf7ea-77a4-411b-93ba-38f24456cdc3",
   "metadata": {},
   "outputs": [
    {
     "data": {
      "text/html": [
       "<div>\n",
       "<style scoped>\n",
       "    .dataframe tbody tr th:only-of-type {\n",
       "        vertical-align: middle;\n",
       "    }\n",
       "\n",
       "    .dataframe tbody tr th {\n",
       "        vertical-align: top;\n",
       "    }\n",
       "\n",
       "    .dataframe thead th {\n",
       "        text-align: right;\n",
       "    }\n",
       "</style>\n",
       "<table border=\"1\" class=\"dataframe\">\n",
       "  <thead>\n",
       "    <tr style=\"text-align: right;\">\n",
       "      <th></th>\n",
       "      <th>Location</th>\n",
       "      <th>Price</th>\n",
       "    </tr>\n",
       "  </thead>\n",
       "  <tbody>\n",
       "    <tr>\n",
       "      <th>0</th>\n",
       "      <td>Downtown</td>\n",
       "      <td>536059.66</td>\n",
       "    </tr>\n",
       "    <tr>\n",
       "      <th>1</th>\n",
       "      <td>Rural</td>\n",
       "      <td>538613.94</td>\n",
       "    </tr>\n",
       "    <tr>\n",
       "      <th>2</th>\n",
       "      <td>Suburban</td>\n",
       "      <td>557416.33</td>\n",
       "    </tr>\n",
       "    <tr>\n",
       "      <th>3</th>\n",
       "      <td>Urban</td>\n",
       "      <td>518963.55</td>\n",
       "    </tr>\n",
       "  </tbody>\n",
       "</table>\n",
       "</div>"
      ],
      "text/plain": [
       "   Location      Price\n",
       "0  Downtown  536059.66\n",
       "1     Rural  538613.94\n",
       "2  Suburban  557416.33\n",
       "3     Urban  518963.55"
      ]
     },
     "execution_count": 99,
     "metadata": {},
     "output_type": "execute_result"
    }
   ],
   "source": [
    "avg_price_by_loc"
   ]
  },
  {
   "cell_type": "code",
   "execution_count": 100,
   "id": "897dce16-2e84-40f7-b727-2cef3f0a48ce",
   "metadata": {},
   "outputs": [
    {
     "data": {
      "text/plain": [
       "Condition\n",
       "Excellent    530812.01\n",
       "Fair         560594.14\n",
       "Good         529002.35\n",
       "Poor         528933.22\n",
       "Name: Price, dtype: float64"
      ]
     },
     "execution_count": 100,
     "metadata": {},
     "output_type": "execute_result"
    }
   ],
   "source": [
    "avg_price_by_condition"
   ]
  },
  {
   "cell_type": "code",
   "execution_count": 13,
   "id": "baab5779-68f7-4428-b6b2-f2dcb4d56650",
   "metadata": {
    "scrolled": true
   },
   "outputs": [
    {
     "data": {
      "text/html": [
       "<div>\n",
       "<style scoped>\n",
       "    .dataframe tbody tr th:only-of-type {\n",
       "        vertical-align: middle;\n",
       "    }\n",
       "\n",
       "    .dataframe tbody tr th {\n",
       "        vertical-align: top;\n",
       "    }\n",
       "\n",
       "    .dataframe thead th {\n",
       "        text-align: right;\n",
       "    }\n",
       "</style>\n",
       "<table border=\"1\" class=\"dataframe\">\n",
       "  <thead>\n",
       "    <tr style=\"text-align: right;\">\n",
       "      <th></th>\n",
       "      <th>Location</th>\n",
       "      <th>Condition</th>\n",
       "      <th>Price</th>\n",
       "    </tr>\n",
       "  </thead>\n",
       "  <tbody>\n",
       "    <tr>\n",
       "      <th>0</th>\n",
       "      <td>Downtown</td>\n",
       "      <td>Excellent</td>\n",
       "      <td>524477.967320</td>\n",
       "    </tr>\n",
       "    <tr>\n",
       "      <th>1</th>\n",
       "      <td>Downtown</td>\n",
       "      <td>Fair</td>\n",
       "      <td>584624.766423</td>\n",
       "    </tr>\n",
       "    <tr>\n",
       "      <th>2</th>\n",
       "      <td>Downtown</td>\n",
       "      <td>Good</td>\n",
       "      <td>510704.191176</td>\n",
       "    </tr>\n",
       "    <tr>\n",
       "      <th>3</th>\n",
       "      <td>Downtown</td>\n",
       "      <td>Poor</td>\n",
       "      <td>525203.022727</td>\n",
       "    </tr>\n",
       "    <tr>\n",
       "      <th>4</th>\n",
       "      <td>Rural</td>\n",
       "      <td>Excellent</td>\n",
       "      <td>547966.141667</td>\n",
       "    </tr>\n",
       "    <tr>\n",
       "      <th>5</th>\n",
       "      <td>Rural</td>\n",
       "      <td>Fair</td>\n",
       "      <td>579754.727273</td>\n",
       "    </tr>\n",
       "    <tr>\n",
       "      <th>6</th>\n",
       "      <td>Rural</td>\n",
       "      <td>Good</td>\n",
       "      <td>500956.690000</td>\n",
       "    </tr>\n",
       "    <tr>\n",
       "      <th>7</th>\n",
       "      <td>Rural</td>\n",
       "      <td>Poor</td>\n",
       "      <td>515768.680328</td>\n",
       "    </tr>\n",
       "    <tr>\n",
       "      <th>8</th>\n",
       "      <td>Suburban</td>\n",
       "      <td>Excellent</td>\n",
       "      <td>553103.377049</td>\n",
       "    </tr>\n",
       "    <tr>\n",
       "      <th>9</th>\n",
       "      <td>Suburban</td>\n",
       "      <td>Fair</td>\n",
       "      <td>562783.795276</td>\n",
       "    </tr>\n",
       "    <tr>\n",
       "      <th>10</th>\n",
       "      <td>Suburban</td>\n",
       "      <td>Good</td>\n",
       "      <td>570986.252252</td>\n",
       "    </tr>\n",
       "    <tr>\n",
       "      <th>11</th>\n",
       "      <td>Suburban</td>\n",
       "      <td>Poor</td>\n",
       "      <td>543906.186992</td>\n",
       "    </tr>\n",
       "    <tr>\n",
       "      <th>12</th>\n",
       "      <td>Urban</td>\n",
       "      <td>Excellent</td>\n",
       "      <td>497976.370690</td>\n",
       "    </tr>\n",
       "    <tr>\n",
       "      <th>13</th>\n",
       "      <td>Urban</td>\n",
       "      <td>Fair</td>\n",
       "      <td>511798.304000</td>\n",
       "    </tr>\n",
       "    <tr>\n",
       "      <th>14</th>\n",
       "      <td>Urban</td>\n",
       "      <td>Good</td>\n",
       "      <td>534554.131579</td>\n",
       "    </tr>\n",
       "    <tr>\n",
       "      <th>15</th>\n",
       "      <td>Urban</td>\n",
       "      <td>Poor</td>\n",
       "      <td>530908.484615</td>\n",
       "    </tr>\n",
       "  </tbody>\n",
       "</table>\n",
       "</div>"
      ],
      "text/plain": [
       "    Location  Condition          Price\n",
       "0   Downtown  Excellent  524477.967320\n",
       "1   Downtown       Fair  584624.766423\n",
       "2   Downtown       Good  510704.191176\n",
       "3   Downtown       Poor  525203.022727\n",
       "4      Rural  Excellent  547966.141667\n",
       "5      Rural       Fair  579754.727273\n",
       "6      Rural       Good  500956.690000\n",
       "7      Rural       Poor  515768.680328\n",
       "8   Suburban  Excellent  553103.377049\n",
       "9   Suburban       Fair  562783.795276\n",
       "10  Suburban       Good  570986.252252\n",
       "11  Suburban       Poor  543906.186992\n",
       "12     Urban  Excellent  497976.370690\n",
       "13     Urban       Fair  511798.304000\n",
       "14     Urban       Good  534554.131579\n",
       "15     Urban       Poor  530908.484615"
      ]
     },
     "execution_count": 13,
     "metadata": {},
     "output_type": "execute_result"
    }
   ],
   "source": [
    "loc_con_price = origin_data.groupby([\"Location\",\"Condition\"])[\"Price\"].mean().reset_index()\n",
    "loc_con_price"
   ]
  },
  {
   "cell_type": "code",
   "execution_count": 38,
   "id": "3c18907a-a1ca-4397-a7bb-851afb78a4b6",
   "metadata": {},
   "outputs": [
    {
     "data": {
      "text/html": [
       "<div>\n",
       "<style scoped>\n",
       "    .dataframe tbody tr th:only-of-type {\n",
       "        vertical-align: middle;\n",
       "    }\n",
       "\n",
       "    .dataframe tbody tr th {\n",
       "        vertical-align: top;\n",
       "    }\n",
       "\n",
       "    .dataframe thead th {\n",
       "        text-align: right;\n",
       "    }\n",
       "</style>\n",
       "<table border=\"1\" class=\"dataframe\">\n",
       "  <thead>\n",
       "    <tr style=\"text-align: right;\">\n",
       "      <th></th>\n",
       "      <th>Id</th>\n",
       "      <th>Area</th>\n",
       "      <th>Bedrooms</th>\n",
       "      <th>Bathrooms</th>\n",
       "      <th>Floors</th>\n",
       "      <th>YearBuilt</th>\n",
       "      <th>Location</th>\n",
       "      <th>Condition</th>\n",
       "      <th>Garage</th>\n",
       "      <th>Price</th>\n",
       "      <th>Age_of_House</th>\n",
       "      <th>Price_per_sqft</th>\n",
       "    </tr>\n",
       "  </thead>\n",
       "  <tbody>\n",
       "    <tr>\n",
       "      <th>0</th>\n",
       "      <td>1</td>\n",
       "      <td>1360</td>\n",
       "      <td>5</td>\n",
       "      <td>4</td>\n",
       "      <td>3</td>\n",
       "      <td>1970</td>\n",
       "      <td>Downtown</td>\n",
       "      <td>Excellent</td>\n",
       "      <td>No</td>\n",
       "      <td>149919</td>\n",
       "      <td>54</td>\n",
       "      <td>110.234559</td>\n",
       "    </tr>\n",
       "    <tr>\n",
       "      <th>1</th>\n",
       "      <td>2</td>\n",
       "      <td>4272</td>\n",
       "      <td>5</td>\n",
       "      <td>4</td>\n",
       "      <td>3</td>\n",
       "      <td>1958</td>\n",
       "      <td>Downtown</td>\n",
       "      <td>Excellent</td>\n",
       "      <td>No</td>\n",
       "      <td>424998</td>\n",
       "      <td>66</td>\n",
       "      <td>99.484551</td>\n",
       "    </tr>\n",
       "    <tr>\n",
       "      <th>2</th>\n",
       "      <td>3</td>\n",
       "      <td>3592</td>\n",
       "      <td>2</td>\n",
       "      <td>2</td>\n",
       "      <td>3</td>\n",
       "      <td>1938</td>\n",
       "      <td>Downtown</td>\n",
       "      <td>Good</td>\n",
       "      <td>No</td>\n",
       "      <td>266746</td>\n",
       "      <td>86</td>\n",
       "      <td>74.261136</td>\n",
       "    </tr>\n",
       "    <tr>\n",
       "      <th>3</th>\n",
       "      <td>4</td>\n",
       "      <td>966</td>\n",
       "      <td>4</td>\n",
       "      <td>2</td>\n",
       "      <td>2</td>\n",
       "      <td>1902</td>\n",
       "      <td>Suburban</td>\n",
       "      <td>Fair</td>\n",
       "      <td>Yes</td>\n",
       "      <td>244020</td>\n",
       "      <td>122</td>\n",
       "      <td>252.608696</td>\n",
       "    </tr>\n",
       "    <tr>\n",
       "      <th>4</th>\n",
       "      <td>5</td>\n",
       "      <td>4926</td>\n",
       "      <td>1</td>\n",
       "      <td>4</td>\n",
       "      <td>2</td>\n",
       "      <td>1975</td>\n",
       "      <td>Downtown</td>\n",
       "      <td>Fair</td>\n",
       "      <td>Yes</td>\n",
       "      <td>636056</td>\n",
       "      <td>49</td>\n",
       "      <td>129.122209</td>\n",
       "    </tr>\n",
       "  </tbody>\n",
       "</table>\n",
       "</div>"
      ],
      "text/plain": [
       "   Id  Area  Bedrooms  Bathrooms  Floors  YearBuilt  Location  Condition  \\\n",
       "0   1  1360         5          4       3       1970  Downtown  Excellent   \n",
       "1   2  4272         5          4       3       1958  Downtown  Excellent   \n",
       "2   3  3592         2          2       3       1938  Downtown       Good   \n",
       "3   4   966         4          2       2       1902  Suburban       Fair   \n",
       "4   5  4926         1          4       2       1975  Downtown       Fair   \n",
       "\n",
       "  Garage   Price  Age_of_House  Price_per_sqft  \n",
       "0     No  149919            54      110.234559  \n",
       "1     No  424998            66       99.484551  \n",
       "2     No  266746            86       74.261136  \n",
       "3    Yes  244020           122      252.608696  \n",
       "4    Yes  636056            49      129.122209  "
      ]
     },
     "execution_count": 38,
     "metadata": {},
     "output_type": "execute_result"
    }
   ],
   "source": [
    "origin_data[\"Price_per_sqft\"]=origin_data[\"Price\"]/origin_data[\"Area\"]\n",
    "origin_data.head()"
   ]
  },
  {
   "cell_type": "code",
   "execution_count": 49,
   "id": "4ace7fdc-5b0f-4575-a9d9-d6b3f4630d7b",
   "metadata": {},
   "outputs": [
    {
     "data": {
      "text/plain": [
       "Location  Condition\n",
       "Downtown  Excellent    524477.97\n",
       "          Fair         584624.77\n",
       "          Good         510704.19\n",
       "          Poor         525203.02\n",
       "Rural     Excellent    547966.14\n",
       "          Fair         579754.73\n",
       "          Good         500956.69\n",
       "          Poor         515768.68\n",
       "Suburban  Excellent    553103.38\n",
       "          Fair         562783.80\n",
       "          Good         570986.25\n",
       "          Poor         543906.19\n",
       "Urban     Excellent    497976.37\n",
       "          Fair         511798.30\n",
       "          Good         534554.13\n",
       "          Poor         530908.48\n",
       "Name: Price, dtype: float64"
      ]
     },
     "execution_count": 49,
     "metadata": {},
     "output_type": "execute_result"
    }
   ],
   "source": [
    "# Location conditions relative to the average price\n",
    "location_condition_avg_price = origin_data.groupby(['Location', 'Condition'])['Price'].mean().round(2)\n",
    "location_condition_avg_price\n"
   ]
  },
  {
   "cell_type": "code",
   "execution_count": 109,
   "id": "125d59fd-612a-4a37-b3e3-23e580838d4a",
   "metadata": {},
   "outputs": [
    {
     "name": "stdout",
     "output_type": "stream",
     "text": [
      "Condition  Location\n",
      "Excellent  Downtown    267.67\n",
      "           Rural       249.59\n",
      "           Suburban    275.91\n",
      "           Urban       262.11\n",
      "Fair       Downtown    260.25\n",
      "           Rural       292.59\n",
      "           Suburban    262.43\n",
      "           Urban       316.80\n",
      "Good       Downtown    244.64\n",
      "           Rural       277.18\n",
      "           Suburban    293.78\n",
      "           Urban       244.38\n",
      "Poor       Downtown    286.57\n",
      "           Rural       257.19\n",
      "           Suburban    302.12\n",
      "           Urban       243.22\n",
      "Name: PricePerSqFt, dtype: float64\n"
     ]
    }
   ],
   "source": [
    "price_per_sqft_by_condition = origin_data.groupby(['Condition','Location'])['PricePerSqFt'].mean().round(2)\n",
    "print(price_per_sqft_by_condition)"
   ]
  },
  {
   "cell_type": "code",
   "execution_count": 110,
   "id": "0e8f9d4b-8b32-4969-9be5-dc36deb96967",
   "metadata": {},
   "outputs": [],
   "source": [
    "# Resetting the index for plotting\n",
    "price_per_sqft_by_condition = price_per_sqft_by_condition.reset_index()"
   ]
  },
  {
   "cell_type": "code",
   "execution_count": 112,
   "id": "735955d6-5da8-4032-803f-884939a05959",
   "metadata": {},
   "outputs": [
    {
     "data": {
      "image/png": "[encoded data removed]",
      "text/plain": [
       "<Figure size 1000x600 with 1 Axes>"
      ]
     },
     "metadata": {},
     "output_type": "display_data"
    }
   ],
   "source": [
    "# Creation of bar plot\n",
    "plt.figure(figsize=(10, 6))\n",
    "plt.barh(\n",
    "    price_per_sqft_by_condition['Location'] + ' - ' + price_per_sqft_by_condition['Condition'],\n",
    "    price_per_sqft_by_condition['PricePerSqFt']\n",
    ")\n",
    "# Add labels and title\n",
    "plt.xlabel('Average Price per Square Foot')\n",
    "plt.ylabel('Location - Condition')\n",
    "plt.title('Average Price per Square Foot by Condition and Location')\n",
    "\n",
    "plt.show()"
   ]
  },
  {
   "cell_type": "code",
   "execution_count": 50,
   "id": "298fe975-1bbc-483c-9d44-49a30ecb7a88",
   "metadata": {},
   "outputs": [
    {
     "data": {
      "image/png": "[encoded data removed]",
      "text/plain": [
       "<Figure size 500x300 with 1 Axes>"
      ]
     },
     "metadata": {},
     "output_type": "display_data"
    },
    {
     "data": {
      "text/plain": [
       "'\\n\\n'"
      ]
     },
     "execution_count": 50,
     "metadata": {},
     "output_type": "execute_result"
    }
   ],
   "source": [
    "plt.figure(figsize=(5,3))\n",
    "plt.bar(avg_price_by_condition.index, avg_price_by_condition.values, color=\"blue\")\n",
    "plt.title(\"Average Price of The House By Condition\")\n",
    "plt.xlabel(\"condition of the House\")\n",
    "plt.ylabel(\"price\")\n",
    "plt.show()\n",
    "'''\n",
    "\n",
    "'''\n"
   ]
  },
  {
   "cell_type": "code",
   "execution_count": 21,
   "id": "48ff70ab-d4f5-4a57-92c9-e244fa9426ba",
   "metadata": {},
   "outputs": [
    {
     "data": {
      "image/png": "[encoded data removed]",
      "text/plain": [
       "<Figure size 500x300 with 1 Axes>"
      ]
     },
     "metadata": {},
     "output_type": "display_data"
    }
   ],
   "source": [
    "plt.figure(figsize=(5,3))\n",
    "plt.bar(avg_price_by_bedrooms.index ,avg_price_by_bedrooms, color='r', alpha= 0.7, align= 'center')\n",
    "plt.title('Price Based on Number of Bedrooms')\n",
    "plt.xlabel(\"Number of Bedrooms\")\n",
    "plt.ylabel(\"Average Price\")\n",
    "plt.show()\n",
    "           "
   ]
  },
  {
   "cell_type": "code",
   "execution_count": 34,
   "id": "652de2ec-c625-4e03-b85f-dd269e2549fc",
   "metadata": {},
   "outputs": [
    {
     "data": {
      "image/png": "[encoded data removed]",
      "text/plain": [
       "<Figure size 500x300 with 1 Axes>"
      ]
     },
     "metadata": {},
     "output_type": "display_data"
    }
   ],
   "source": [
    "plt.figure(figsize=(5,3))\n",
    "plt.bar(garage_max_price.index, garage_max_price, color=\"pink\")\n",
    "plt.xlabel(\"garage\")\n",
    "plt.ylabel(\"price\")\n",
    "plt.show()"
   ]
  },
  {
   "cell_type": "code",
   "execution_count": 36,
   "id": "bc723d50-a923-4cf0-8b46-e419955621ae",
   "metadata": {},
   "outputs": [
    {
     "data": {
      "image/png": "[encoded data removed]",
      "text/plain": [
       "<Figure size 500x300 with 1 Axes>"
      ]
     },
     "metadata": {},
     "output_type": "display_data"
    }
   ],
   "source": [
    "plt.figure(figsize=(5,3))\n",
    "plt.bar(location_count.index, location_count, color=\"blue\")\n",
    "plt.title(\"location per Id\")\n",
    "plt.xlabel(\"location\")\n",
    "plt.ylabel(\"id\")\n",
    "plt.show()"
   ]
  },
  {
   "cell_type": "code",
   "execution_count": 43,
   "id": "3f233c7b-a1e6-4b85-b0ce-dc451f2ae238",
   "metadata": {},
   "outputs": [
    {
     "data": {
      "image/png": "[encoded data removed]",
      "text/plain": [
       "<Figure size 500x300 with 1 Axes>"
      ]
     },
     "metadata": {},
     "output_type": "display_data"
    }
   ],
   "source": [
    "plt.figure(figsize=(5,3))\n",
    "plt.pie(location_count,labels=location_count.index,autopct='%1.1f%%')\n",
    "plt.title(\"percentage of house by location\")\n",
    "plt.show()"
   ]
  },
  {
   "cell_type": "code",
   "execution_count": 47,
   "id": "1573f1ca-e727-4728-9ae6-35838bf1a1df",
   "metadata": {},
   "outputs": [
    {
     "data": {
      "image/png": "[encoded data removed]",
      "text/plain": [
       "<Figure size 640x480 with 1 Axes>"
      ]
     },
     "metadata": {},
     "output_type": "display_data"
    }
   ],
   "source": [
    "total_price_by_area = origin_data.groupby('Condition')['Price'].mean()\n",
    "\n",
    "plt.bar(total_price_by_area.index,total_price_by_area.values, color='green')\n",
    "plt.title(\"Average price by condition\")\n",
    "plt.xlabel(\"Condition\")\n",
    "plt.ylabel(\"Average price\")\n",
    "plt.show()"
   ]
  },
  {
   "cell_type": "code",
   "execution_count": null,
   "id": "67c7dca0-3107-49c0-8882-aa7ad12b904b",
   "metadata": {},
   "outputs": [],
   "source": []
  }
 ],
 "metadata": {
  "kernelspec": {
   "display_name": "Python 3 (ipykernel)",
   "language": "python",
   "name": "python3"
  },
  "language_info": {
   "codemirror_mode": {
    "name": "ipython",
    "version": 3
   },
   "file_extension": ".py",
   "mimetype": "text/x-python",
   "name": "python",
   "nbconvert_exporter": "python",
   "pygments_lexer": "ipython3",
   "version": "3.12.4"
  }
 },
 "nbformat": 4,
 "nbformat_minor": 5
}
